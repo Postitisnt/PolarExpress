{
  "cells": [
    {
      "cell_type": "markdown",
      "metadata": {
        "id": "Ajvn915fW-qY"
      },
      "source": [
        "# **Polar Express**\n",
        "----------------\n",
        "##### **Paolini Lorenzo** - Matricola n. 0001056503"
      ]
    },
    {
      "cell_type": "markdown",
      "metadata": {
        "id": "zVXDQEmNXUKg"
      },
      "source": [
        "The following notebook is divided into 4 different sections:\n",
        "- **Section 1**: Definition of all the functions that will be used to build, train and evaluate the model. `polar_generator` is the default function, it has not been modified. In this section you will find the functions `compute_accuracy` (*useful to compute the accuracy of the model*), `plot_history` (*useful to plot the accuracy and loss lines during the training step*), and the two functions `earlystopping` and `reduce_lr` (both these functions are `callback` functions and are useful to, respectively, *stop the training process if the model stops learning*, and to *dynamically scale by a factor of* 0.1 *the learning rate of the model if there is the possibility that it is stuck in a plateau*);\n",
        "- **Section 2**: Definition of the model, model summary, and hyperparameters settings;\n",
        "- **Section 3**: Training process, history of training, accuracy and loss plots on validation set;\n",
        "- **Section 4**: Contains the evaluation of the model done by the previously defined accuracy function. The function returns the total number of predictions done by the network, the number of correct predictions, the accuracy (in percentage) of the model, and whether it satisfies or not the basic requirement of a 95% accuracy."
      ]
    },
    {
      "cell_type": "markdown",
      "metadata": {
        "id": "ulB1aCsecShi"
      },
      "source": [
        "<font color=\"red\"><b><i>I have used the Flat variant of the generator by setting `flat=True` in all the instances of the generator</i></b></font>"
      ]
    },
    {
      "cell_type": "code",
      "execution_count": 1,
      "metadata": {
        "id": "EtOyq4_fbsgU"
      },
      "outputs": [],
      "source": [
        "import numpy as np\n",
        "import tensorflow as tf\n",
        "from keras.layers import Input, Flatten, Dense, concatenate\n",
        "from tensorflow.keras.optimizers import Adam\n",
        "from tensorflow.keras.models import Model\n",
        "from keras import callbacks\n",
        "import matplotlib.pyplot as plt"
      ]
    },
    {
      "cell_type": "markdown",
      "metadata": {
        "id": "DAAcBMbubFYB"
      },
      "source": [
        "## **Section 1**: Functions"
      ]
    },
    {
      "cell_type": "markdown",
      "metadata": {
        "id": "f6G58FxKbKWQ"
      },
      "source": [
        "#### Generator\n",
        "It is the original generator, treated as a black box and not modified."
      ]
    },
    {
      "cell_type": "code",
      "execution_count": 2,
      "metadata": {
        "id": "Oi4owbjjW1cK"
      },
      "outputs": [],
      "source": [
        "def polar_generator(batchsize,grid=(10,10),noise=.002,flat=False):\n",
        "  while True:\n",
        "    x = np.random.rand(batchsize)\n",
        "    y = np.random.rand(batchsize)\n",
        "    out = np.zeros((batchsize,grid[0],grid[1]))\n",
        "    xc = (x*grid[0]).astype(int)\n",
        "    yc = (y*grid[1]).astype(int)\n",
        "    for b in range(batchsize):\n",
        "      out[b,xc[b],yc[b]] = 1\n",
        "    #compute rho and theta and add some noise\n",
        "    rho = np.sqrt(x**2+y**2) + np.random.normal(scale=noise)\n",
        "    theta = np.arctan(y/np.maximum(x,.00001)) + np.random.normal(scale=noise)\n",
        "    if flat:\n",
        "      out = np.reshape(out,(batchsize,grid[0]*grid[1]))\n",
        "    yield ((theta,rho),out)"
      ]
    },
    {
      "cell_type": "markdown",
      "metadata": {
        "id": "18tiaQBtc2uo"
      },
      "source": [
        "#### Visualization function"
      ]
    },
    {
      "cell_type": "code",
      "execution_count": 3,
      "metadata": {
        "id": "ES1M7H-gc6Mg"
      },
      "outputs": [],
      "source": [
        "# Visualization of training parameters function\n",
        "################################################################################\n",
        "\n",
        "def plot_history(history):\n",
        "    \"\"\"\n",
        "    plot_history takes in input the history record of the model\n",
        "    It computes the accuracy line on validation set per epoch, and the loss line per epoch\n",
        "    \"\"\"\n",
        "    print(history.history.keys())\n",
        "    # summarize history for categorical_accuracy\n",
        "    plt.plot(history.history['categorical_accuracy'])\n",
        "    plt.plot(history.history['val_categorical_accuracy'])\n",
        "    plt.title('model accuracy')\n",
        "    plt.ylabel('accuracy')\n",
        "    plt.xlabel('epoch')\n",
        "    plt.legend(['train', 'validation'], loc='upper left')\n",
        "    plt.show()\n",
        "    # summarize history for loss\n",
        "    plt.plot(history.history['loss'])\n",
        "    plt.plot(history.history['val_loss'])\n",
        "    plt.title('model loss')\n",
        "    plt.ylabel('loss')\n",
        "    plt.xlabel('epoch')\n",
        "    plt.legend(['train', 'validation'], loc='upper left')\n",
        "    plt.show()"
      ]
    },
    {
      "cell_type": "markdown",
      "metadata": {
        "id": "yTY4O-IddMVw"
      },
      "source": [
        "#### Accuracy function"
      ]
    },
    {
      "cell_type": "code",
      "execution_count": 4,
      "metadata": {
        "id": "67AN2HHLdUCh"
      },
      "outputs": [],
      "source": [
        "# Accuracy function\n",
        "################################################################################\n",
        "\n",
        "def compute_accuracy(model, generator, test_sample_size):\n",
        "    \"\"\"\n",
        "    The function takes in input the model, the generator, and the number of samples \n",
        "    you want to use to evaluate the accuracy of the model.\n",
        "    \"\"\"\n",
        "    test_gen = polar_generator(batchsize=test_sample_size, grid=(10,10), flat=True)\n",
        "    (theta, rho), maps = next(test_gen)\n",
        "    pred = model.predict([theta, rho])\n",
        "    n_correct_guess = 0\n",
        "    for i, map in enumerate(pred):\n",
        "      if np.argmax(map) == np.argmax(maps[i]):\n",
        "          n_correct_guess+=1\n",
        "    model_accuracy = 100*(n_correct_guess/len(maps))\n",
        "    print(\"Over {} predictions done by the model,\".format(len(maps)))\n",
        "    print(\"The number of correct guesses is {}.\".format(n_correct_guess))\n",
        "    print(\"\\n\")\n",
        "    print(\"Thus resulting in a {:.2f}% of accuracy.\".format(model_accuracy))\n",
        "    print(\"\\n\")\n",
        "    if model_accuracy >= 95:\n",
        "      basic_requirements = True\n",
        "    else:\n",
        "      basic_requirements = False\n",
        "    print(\"The model {} satisfies the basic requirements: {}\".format(model, basic_requirements))\n",
        "    return basic_requirements"
      ]
    },
    {
      "cell_type": "markdown",
      "metadata": {
        "id": "OGD71L70dv1O"
      },
      "source": [
        "#### Callback functions\n",
        "As specified in the introduction, this section contains the definition of 2 callback functions."
      ]
    },
    {
      "cell_type": "code",
      "execution_count": 7,
      "metadata": {
        "id": "iTND-o05d8hw"
      },
      "outputs": [],
      "source": [
        "earlystopping = callbacks.EarlyStopping(monitor =\"val_loss\", \n",
        "                                        mode =\"auto\", patience = 32, \n",
        "                                        restore_best_weights = True)"
      ]
    },
    {
      "cell_type": "code",
      "execution_count": 8,
      "metadata": {
        "id": "YroSfX6olHO9"
      },
      "outputs": [],
      "source": [
        "reduce_lr = callbacks.ReduceLROnPlateau(monitor='val_loss', factor=0.1,\n",
        "                                        patience=4, min_lr=0.00001)"
      ]
    },
    {
      "cell_type": "markdown",
      "metadata": {
        "id": "205m0EzGeIzg"
      },
      "source": [
        "## **Section 2**: Model"
      ]
    },
    {
      "cell_type": "markdown",
      "metadata": {
        "id": "eziKA5GQeNH3"
      },
      "source": [
        "#### Model definition\n",
        "I concatenated the two inputs (theta and rho), and used two Dense layers to process the coordinates. The two activation functions used for the dense layers are `swish` and `selu`. The output is processd by a final output layer, aimed to produce the probability mapping of the prediction thanks to the `softmax` function. </br>\n",
        "The optimizer I have used is `Adam`, and I have set the initial learning rate to 0.1. Even though it is pretty high, I have noticed that, in particular during the first epochs, the model do not overfit, and the loss function, that has been initialized to the `categorical_crossentropy`, continues to decrease. Obviously, during training, the learning rate will decrease by a factor of 0.1, as defined in the `reduce_lr` callback function."
      ]
    },
    {
      "cell_type": "code",
      "execution_count": 9,
      "metadata": {
        "id": "RuoE6POLebTq"
      },
      "outputs": [],
      "source": [
        "##################################\n",
        "# Model Name = biDense_model\n",
        "##################################\n",
        "\n",
        "# Define optimizer and initial learning rate\n",
        "optimizer = Adam(learning_rate=0.1)\n",
        "\n",
        "# Define the inputs and concatenate them\n",
        "theta = Input(shape=(1,))\n",
        "rho = Input(shape=(1,))\n",
        "concatenated_inputs = concatenate([theta, rho])\n",
        "\n",
        "# Define first and second Dense layers\n",
        "first_dense_layer = Dense(4, activation='swish')(concatenated_inputs)\n",
        "second_dense_layer = Dense(2, activation = 'selu')(first_dense_layer)\n",
        "\n",
        "\n",
        "# Output Dense layer\n",
        "output = Dense(100, activation='softmax')(second_dense_layer)\n",
        "\n",
        "# Build and compile the model\n",
        "biDense_model = Model(inputs=[theta, rho], outputs=output)\n",
        "biDense_model.compile(optimizer=optimizer, loss='categorical_crossentropy', metrics=['categorical_accuracy'])"
      ]
    },
    {
      "cell_type": "markdown",
      "metadata": {
        "id": "_K19AtYOikz4"
      },
      "source": [
        "Now, I print on screen the summary of the model."
      ]
    },
    {
      "cell_type": "code",
      "execution_count": 10,
      "metadata": {
        "colab": {
          "base_uri": "https://localhost:8080/"
        },
        "id": "Bp5KQu4Vigwe",
        "outputId": "330044d1-64d4-4468-aec8-460ce206bb1c"
      },
      "outputs": [
        {
          "name": "stdout",
          "output_type": "stream",
          "text": [
            "Model: \"model\"\n",
            "__________________________________________________________________________________________________\n",
            " Layer (type)                   Output Shape         Param #     Connected to                     \n",
            "==================================================================================================\n",
            " input_1 (InputLayer)           [(None, 1)]          0           []                               \n",
            "                                                                                                  \n",
            " input_2 (InputLayer)           [(None, 1)]          0           []                               \n",
            "                                                                                                  \n",
            " concatenate (Concatenate)      (None, 2)            0           ['input_1[0][0]',                \n",
            "                                                                  'input_2[0][0]']                \n",
            "                                                                                                  \n",
            " dense (Dense)                  (None, 4)            12          ['concatenate[0][0]']            \n",
            "                                                                                                  \n",
            " dense_1 (Dense)                (None, 2)            10          ['dense[0][0]']                  \n",
            "                                                                                                  \n",
            " dense_2 (Dense)                (None, 100)          300         ['dense_1[0][0]']                \n",
            "                                                                                                  \n",
            "==================================================================================================\n",
            "Total params: 322\n",
            "Trainable params: 322\n",
            "Non-trainable params: 0\n",
            "__________________________________________________________________________________________________\n"
          ]
        }
      ],
      "source": [
        "biDense_model.summary()"
      ]
    },
    {
      "cell_type": "markdown",
      "metadata": {
        "id": "wWyzZU-BiscM"
      },
      "source": [
        "#### Setting hyperparameters "
      ]
    },
    {
      "cell_type": "code",
      "execution_count": 11,
      "metadata": {
        "id": "knMCEE_Si2oz"
      },
      "outputs": [],
      "source": [
        "batchsize = 256\n",
        "epochs = 200\n",
        "steps_per_epoch = 20000 \n",
        "validation_steps = 2000 "
      ]
    },
    {
      "cell_type": "markdown",
      "metadata": {
        "id": "A0eiatIci8Rh"
      },
      "source": [
        "## **Section 3**: Training and history"
      ]
    },
    {
      "cell_type": "markdown",
      "metadata": {
        "id": "UCQB-CDBjLFw"
      },
      "source": [
        "#### Training"
      ]
    },
    {
      "cell_type": "markdown",
      "metadata": {
        "id": "ft7ooH1_jaTP"
      },
      "source": [
        "Thanks to the `early_stopping` function, the model will stop training before overfitting or stopping to learn, this allow me to also restore the best weights. The number of epochs is too high, but it is not a problem since the model will stop before the end."
      ]
    },
    {
      "cell_type": "code",
      "execution_count": 12,
      "metadata": {
        "colab": {
          "base_uri": "https://localhost:8080/"
        },
        "id": "x0cD6ObWjNFX",
        "outputId": "ce2a4f61-9c0b-48d6-ab76-c8cbbea69af6"
      },
      "outputs": [
        {
          "name": "stdout",
          "output_type": "stream",
          "text": [
            "Epoch 1/200\n",
            "20000/20000 [==============================] - 44s 2ms/step - loss: 0.7936 - categorical_accuracy: 0.7173 - val_loss: 0.5032 - val_categorical_accuracy: 0.8241 - lr: 0.1000\n",
            "Epoch 2/200\n",
            "20000/20000 [==============================] - 47s 2ms/step - loss: 0.4859 - categorical_accuracy: 0.8163 - val_loss: 0.4460 - val_categorical_accuracy: 0.8203 - lr: 0.1000\n",
            "Epoch 3/200\n",
            "20000/20000 [==============================] - 46s 2ms/step - loss: 0.4260 - categorical_accuracy: 0.8350 - val_loss: 0.3852 - val_categorical_accuracy: 0.8513 - lr: 0.1000\n",
            "Epoch 4/200\n",
            "20000/20000 [==============================] - 45s 2ms/step - loss: 0.3962 - categorical_accuracy: 0.8441 - val_loss: 0.3517 - val_categorical_accuracy: 0.8599 - lr: 0.1000\n",
            "Epoch 5/200\n",
            "20000/20000 [==============================] - 45s 2ms/step - loss: 0.3801 - categorical_accuracy: 0.8489 - val_loss: 0.3219 - val_categorical_accuracy: 0.8798 - lr: 0.1000\n",
            "Epoch 6/200\n",
            "20000/20000 [==============================] - 45s 2ms/step - loss: 0.3648 - categorical_accuracy: 0.8541 - val_loss: 0.3292 - val_categorical_accuracy: 0.8670 - lr: 0.1000\n",
            "Epoch 7/200\n",
            "20000/20000 [==============================] - 44s 2ms/step - loss: 0.3580 - categorical_accuracy: 0.8557 - val_loss: 0.4328 - val_categorical_accuracy: 0.8120 - lr: 0.1000\n",
            "Epoch 8/200\n",
            "20000/20000 [==============================] - 43s 2ms/step - loss: 0.3519 - categorical_accuracy: 0.8579 - val_loss: 0.3813 - val_categorical_accuracy: 0.8444 - lr: 0.1000\n",
            "Epoch 9/200\n",
            "20000/20000 [==============================] - 43s 2ms/step - loss: 0.3471 - categorical_accuracy: 0.8591 - val_loss: 0.3079 - val_categorical_accuracy: 0.8721 - lr: 0.1000\n",
            "Epoch 10/200\n",
            "20000/20000 [==============================] - 43s 2ms/step - loss: 0.3407 - categorical_accuracy: 0.8616 - val_loss: 0.3135 - val_categorical_accuracy: 0.8787 - lr: 0.1000\n",
            "Epoch 11/200\n",
            "20000/20000 [==============================] - 45s 2ms/step - loss: 0.3393 - categorical_accuracy: 0.8618 - val_loss: 0.3179 - val_categorical_accuracy: 0.8744 - lr: 0.1000\n",
            "Epoch 12/200\n",
            "20000/20000 [==============================] - 43s 2ms/step - loss: 0.3390 - categorical_accuracy: 0.8620 - val_loss: 0.6565 - val_categorical_accuracy: 0.7458 - lr: 0.1000\n",
            "Epoch 13/200\n",
            "20000/20000 [==============================] - 45s 2ms/step - loss: 0.3339 - categorical_accuracy: 0.8638 - val_loss: 0.3314 - val_categorical_accuracy: 0.8652 - lr: 0.1000\n",
            "Epoch 14/200\n",
            "20000/20000 [==============================] - 46s 2ms/step - loss: 0.1953 - categorical_accuracy: 0.9442 - val_loss: 0.1888 - val_categorical_accuracy: 0.9457 - lr: 0.0100\n",
            "Epoch 15/200\n",
            "20000/20000 [==============================] - 43s 2ms/step - loss: 0.1905 - categorical_accuracy: 0.9435 - val_loss: 0.1795 - val_categorical_accuracy: 0.9533 - lr: 0.0100\n",
            "Epoch 16/200\n",
            "20000/20000 [==============================] - 46s 2ms/step - loss: 0.1862 - categorical_accuracy: 0.9441 - val_loss: 0.1851 - val_categorical_accuracy: 0.9417 - lr: 0.0100\n",
            "Epoch 17/200\n",
            "20000/20000 [==============================] - 45s 2ms/step - loss: 0.1833 - categorical_accuracy: 0.9440 - val_loss: 0.1967 - val_categorical_accuracy: 0.9306 - lr: 0.0100\n",
            "Epoch 18/200\n",
            "20000/20000 [==============================] - 45s 2ms/step - loss: 0.1808 - categorical_accuracy: 0.9441 - val_loss: 0.1728 - val_categorical_accuracy: 0.9494 - lr: 0.0100\n",
            "Epoch 19/200\n",
            "20000/20000 [==============================] - 45s 2ms/step - loss: 0.1786 - categorical_accuracy: 0.9441 - val_loss: 0.1827 - val_categorical_accuracy: 0.9409 - lr: 0.0100\n",
            "Epoch 20/200\n",
            "20000/20000 [==============================] - 46s 2ms/step - loss: 0.1762 - categorical_accuracy: 0.9444 - val_loss: 0.1618 - val_categorical_accuracy: 0.9589 - lr: 0.0100\n",
            "Epoch 21/200\n",
            "20000/20000 [==============================] - 46s 2ms/step - loss: 0.1746 - categorical_accuracy: 0.9445 - val_loss: 0.1610 - val_categorical_accuracy: 0.9564 - lr: 0.0100\n",
            "Epoch 22/200\n",
            "20000/20000 [==============================] - 46s 2ms/step - loss: 0.1728 - categorical_accuracy: 0.9447 - val_loss: 0.1712 - val_categorical_accuracy: 0.9437 - lr: 0.0100\n",
            "Epoch 23/200\n",
            "20000/20000 [==============================] - 45s 2ms/step - loss: 0.1718 - categorical_accuracy: 0.9445 - val_loss: 0.1623 - val_categorical_accuracy: 0.9521 - lr: 0.0100\n",
            "Epoch 24/200\n",
            "20000/20000 [==============================] - 43s 2ms/step - loss: 0.1703 - categorical_accuracy: 0.9447 - val_loss: 0.2094 - val_categorical_accuracy: 0.9129 - lr: 0.0100\n",
            "Epoch 25/200\n",
            "20000/20000 [==============================] - 48s 2ms/step - loss: 0.1691 - categorical_accuracy: 0.9448 - val_loss: 0.1596 - val_categorical_accuracy: 0.9517 - lr: 0.0100\n",
            "Epoch 26/200\n",
            "20000/20000 [==============================] - 46s 2ms/step - loss: 0.1682 - categorical_accuracy: 0.9447 - val_loss: 0.1532 - val_categorical_accuracy: 0.9583 - lr: 0.0100\n",
            "Epoch 27/200\n",
            "20000/20000 [==============================] - 47s 2ms/step - loss: 0.1671 - categorical_accuracy: 0.9448 - val_loss: 0.1819 - val_categorical_accuracy: 0.9336 - lr: 0.0100\n",
            "Epoch 28/200\n",
            "20000/20000 [==============================] - 45s 2ms/step - loss: 0.1666 - categorical_accuracy: 0.9445 - val_loss: 0.1669 - val_categorical_accuracy: 0.9458 - lr: 0.0100\n",
            "Epoch 29/200\n",
            "20000/20000 [==============================] - 47s 2ms/step - loss: 0.1650 - categorical_accuracy: 0.9451 - val_loss: 0.1598 - val_categorical_accuracy: 0.9487 - lr: 0.0100\n",
            "Epoch 30/200\n",
            "20000/20000 [==============================] - 45s 2ms/step - loss: 0.1650 - categorical_accuracy: 0.9446 - val_loss: 0.1513 - val_categorical_accuracy: 0.9558 - lr: 0.0100\n",
            "Epoch 31/200\n",
            "20000/20000 [==============================] - 48s 2ms/step - loss: 0.1642 - categorical_accuracy: 0.9448 - val_loss: 0.1551 - val_categorical_accuracy: 0.9519 - lr: 0.0100\n",
            "Epoch 32/200\n",
            "20000/20000 [==============================] - 48s 2ms/step - loss: 0.1631 - categorical_accuracy: 0.9450 - val_loss: 0.1558 - val_categorical_accuracy: 0.9536 - lr: 0.0100\n",
            "Epoch 33/200\n",
            "20000/20000 [==============================] - 46s 2ms/step - loss: 0.1632 - categorical_accuracy: 0.9447 - val_loss: 0.1639 - val_categorical_accuracy: 0.9420 - lr: 0.0100\n",
            "Epoch 34/200\n",
            "20000/20000 [==============================] - 48s 2ms/step - loss: 0.1624 - categorical_accuracy: 0.9447 - val_loss: 0.1552 - val_categorical_accuracy: 0.9509 - lr: 0.0100\n",
            "Epoch 35/200\n",
            "20000/20000 [==============================] - 47s 2ms/step - loss: 0.1422 - categorical_accuracy: 0.9637 - val_loss: 0.1413 - val_categorical_accuracy: 0.9640 - lr: 1.0000e-03\n",
            "Epoch 36/200\n",
            "20000/20000 [==============================] - 47s 2ms/step - loss: 0.1422 - categorical_accuracy: 0.9635 - val_loss: 0.1417 - val_categorical_accuracy: 0.9640 - lr: 1.0000e-03\n",
            "Epoch 37/200\n",
            "20000/20000 [==============================] - 48s 2ms/step - loss: 0.1419 - categorical_accuracy: 0.9636 - val_loss: 0.1435 - val_categorical_accuracy: 0.9608 - lr: 1.0000e-03\n",
            "Epoch 38/200\n",
            "20000/20000 [==============================] - 46s 2ms/step - loss: 0.1411 - categorical_accuracy: 0.9639 - val_loss: 0.1421 - val_categorical_accuracy: 0.9633 - lr: 1.0000e-03\n",
            "Epoch 39/200\n",
            "20000/20000 [==============================] - 47s 2ms/step - loss: 0.1414 - categorical_accuracy: 0.9636 - val_loss: 0.1443 - val_categorical_accuracy: 0.9604 - lr: 1.0000e-03\n",
            "Epoch 40/200\n",
            "20000/20000 [==============================] - 46s 2ms/step - loss: 0.1388 - categorical_accuracy: 0.9668 - val_loss: 0.1385 - val_categorical_accuracy: 0.9671 - lr: 1.0000e-04\n",
            "Epoch 41/200\n",
            "20000/20000 [==============================] - 46s 2ms/step - loss: 0.1386 - categorical_accuracy: 0.9668 - val_loss: 0.1388 - val_categorical_accuracy: 0.9669 - lr: 1.0000e-04\n",
            "Epoch 42/200\n",
            "20000/20000 [==============================] - 46s 2ms/step - loss: 0.1389 - categorical_accuracy: 0.9667 - val_loss: 0.1392 - val_categorical_accuracy: 0.9663 - lr: 1.0000e-04\n",
            "Epoch 43/200\n",
            "20000/20000 [==============================] - 48s 2ms/step - loss: 0.1389 - categorical_accuracy: 0.9667 - val_loss: 0.1378 - val_categorical_accuracy: 0.9671 - lr: 1.0000e-04\n",
            "Epoch 44/200\n",
            "20000/20000 [==============================] - 47s 2ms/step - loss: 0.1387 - categorical_accuracy: 0.9669 - val_loss: 0.1386 - val_categorical_accuracy: 0.9668 - lr: 1.0000e-04\n",
            "Epoch 45/200\n",
            "20000/20000 [==============================] - 48s 2ms/step - loss: 0.1389 - categorical_accuracy: 0.9667 - val_loss: 0.1394 - val_categorical_accuracy: 0.9659 - lr: 1.0000e-04\n",
            "Epoch 46/200\n",
            "20000/20000 [==============================] - 48s 2ms/step - loss: 0.1388 - categorical_accuracy: 0.9666 - val_loss: 0.1388 - val_categorical_accuracy: 0.9670 - lr: 1.0000e-04\n",
            "Epoch 47/200\n",
            "20000/20000 [==============================] - 48s 2ms/step - loss: 0.1388 - categorical_accuracy: 0.9668 - val_loss: 0.1388 - val_categorical_accuracy: 0.9667 - lr: 1.0000e-04\n",
            "Epoch 48/200\n",
            "20000/20000 [==============================] - 48s 2ms/step - loss: 0.1382 - categorical_accuracy: 0.9673 - val_loss: 0.1383 - val_categorical_accuracy: 0.9672 - lr: 1.0000e-05\n",
            "Epoch 49/200\n",
            "20000/20000 [==============================] - 48s 2ms/step - loss: 0.1387 - categorical_accuracy: 0.9669 - val_loss: 0.1390 - val_categorical_accuracy: 0.9672 - lr: 1.0000e-05\n",
            "Epoch 50/200\n",
            "20000/20000 [==============================] - 45s 2ms/step - loss: 0.1386 - categorical_accuracy: 0.9671 - val_loss: 0.1384 - val_categorical_accuracy: 0.9676 - lr: 1.0000e-05\n",
            "Epoch 51/200\n",
            "20000/20000 [==============================] - 48s 2ms/step - loss: 0.1387 - categorical_accuracy: 0.9669 - val_loss: 0.1387 - val_categorical_accuracy: 0.9670 - lr: 1.0000e-05\n",
            "Epoch 52/200\n",
            "20000/20000 [==============================] - 49s 2ms/step - loss: 0.1385 - categorical_accuracy: 0.9670 - val_loss: 0.1380 - val_categorical_accuracy: 0.9674 - lr: 1.0000e-05\n",
            "Epoch 53/200\n",
            "20000/20000 [==============================] - 48s 2ms/step - loss: 0.1384 - categorical_accuracy: 0.9672 - val_loss: 0.1384 - val_categorical_accuracy: 0.9670 - lr: 1.0000e-05\n",
            "Epoch 54/200\n",
            "20000/20000 [==============================] - 46s 2ms/step - loss: 0.1384 - categorical_accuracy: 0.9672 - val_loss: 0.1383 - val_categorical_accuracy: 0.9670 - lr: 1.0000e-05\n",
            "Epoch 55/200\n",
            "20000/20000 [==============================] - 48s 2ms/step - loss: 0.1387 - categorical_accuracy: 0.9670 - val_loss: 0.1385 - val_categorical_accuracy: 0.9668 - lr: 1.0000e-05\n",
            "Epoch 56/200\n",
            "20000/20000 [==============================] - 48s 2ms/step - loss: 0.1385 - categorical_accuracy: 0.9673 - val_loss: 0.1388 - val_categorical_accuracy: 0.9673 - lr: 1.0000e-05\n",
            "Epoch 57/200\n",
            "20000/20000 [==============================] - 48s 2ms/step - loss: 0.1385 - categorical_accuracy: 0.9671 - val_loss: 0.1389 - val_categorical_accuracy: 0.9666 - lr: 1.0000e-05\n",
            "Epoch 58/200\n",
            "20000/20000 [==============================] - 46s 2ms/step - loss: 0.1384 - categorical_accuracy: 0.9670 - val_loss: 0.1383 - val_categorical_accuracy: 0.9669 - lr: 1.0000e-05\n",
            "Epoch 59/200\n",
            "20000/20000 [==============================] - 48s 2ms/step - loss: 0.1383 - categorical_accuracy: 0.9671 - val_loss: 0.1389 - val_categorical_accuracy: 0.9666 - lr: 1.0000e-05\n",
            "Epoch 60/200\n",
            "20000/20000 [==============================] - 46s 2ms/step - loss: 0.1386 - categorical_accuracy: 0.9671 - val_loss: 0.1389 - val_categorical_accuracy: 0.9671 - lr: 1.0000e-05\n",
            "Epoch 61/200\n",
            "20000/20000 [==============================] - 48s 2ms/step - loss: 0.1385 - categorical_accuracy: 0.9668 - val_loss: 0.1382 - val_categorical_accuracy: 0.9673 - lr: 1.0000e-05\n",
            "Epoch 62/200\n",
            "20000/20000 [==============================] - 46s 2ms/step - loss: 0.1386 - categorical_accuracy: 0.9671 - val_loss: 0.1386 - val_categorical_accuracy: 0.9669 - lr: 1.0000e-05\n",
            "Epoch 63/200\n",
            "20000/20000 [==============================] - 48s 2ms/step - loss: 0.1384 - categorical_accuracy: 0.9671 - val_loss: 0.1380 - val_categorical_accuracy: 0.9679 - lr: 1.0000e-05\n",
            "Epoch 64/200\n",
            "20000/20000 [==============================] - 48s 2ms/step - loss: 0.1386 - categorical_accuracy: 0.9670 - val_loss: 0.1394 - val_categorical_accuracy: 0.9668 - lr: 1.0000e-05\n",
            "Epoch 65/200\n",
            "20000/20000 [==============================] - 47s 2ms/step - loss: 0.1385 - categorical_accuracy: 0.9671 - val_loss: 0.1390 - val_categorical_accuracy: 0.9669 - lr: 1.0000e-05\n",
            "Epoch 66/200\n",
            "20000/20000 [==============================] - 48s 2ms/step - loss: 0.1385 - categorical_accuracy: 0.9669 - val_loss: 0.1381 - val_categorical_accuracy: 0.9674 - lr: 1.0000e-05\n",
            "Epoch 67/200\n",
            "20000/20000 [==============================] - 47s 2ms/step - loss: 0.1383 - categorical_accuracy: 0.9672 - val_loss: 0.1376 - val_categorical_accuracy: 0.9679 - lr: 1.0000e-05\n",
            "Epoch 68/200\n",
            "20000/20000 [==============================] - 46s 2ms/step - loss: 0.1382 - categorical_accuracy: 0.9675 - val_loss: 0.1388 - val_categorical_accuracy: 0.9670 - lr: 1.0000e-05\n",
            "Epoch 69/200\n",
            "20000/20000 [==============================] - 47s 2ms/step - loss: 0.1384 - categorical_accuracy: 0.9671 - val_loss: 0.1380 - val_categorical_accuracy: 0.9671 - lr: 1.0000e-05\n",
            "Epoch 70/200\n",
            "20000/20000 [==============================] - 49s 2ms/step - loss: 0.1388 - categorical_accuracy: 0.9669 - val_loss: 0.1381 - val_categorical_accuracy: 0.9667 - lr: 1.0000e-05\n",
            "Epoch 71/200\n",
            "20000/20000 [==============================] - 46s 2ms/step - loss: 0.1384 - categorical_accuracy: 0.9672 - val_loss: 0.1384 - val_categorical_accuracy: 0.9673 - lr: 1.0000e-05\n",
            "Epoch 72/200\n",
            "20000/20000 [==============================] - 47s 2ms/step - loss: 0.1383 - categorical_accuracy: 0.9672 - val_loss: 0.1384 - val_categorical_accuracy: 0.9671 - lr: 1.0000e-05\n",
            "Epoch 73/200\n",
            "20000/20000 [==============================] - 48s 2ms/step - loss: 0.1383 - categorical_accuracy: 0.9672 - val_loss: 0.1381 - val_categorical_accuracy: 0.9672 - lr: 1.0000e-05\n",
            "Epoch 74/200\n",
            "20000/20000 [==============================] - 46s 2ms/step - loss: 0.1383 - categorical_accuracy: 0.9672 - val_loss: 0.1389 - val_categorical_accuracy: 0.9665 - lr: 1.0000e-05\n",
            "Epoch 75/200\n",
            "20000/20000 [==============================] - 46s 2ms/step - loss: 0.1384 - categorical_accuracy: 0.9671 - val_loss: 0.1392 - val_categorical_accuracy: 0.9663 - lr: 1.0000e-05\n",
            "Epoch 76/200\n",
            "20000/20000 [==============================] - 48s 2ms/step - loss: 0.1384 - categorical_accuracy: 0.9671 - val_loss: 0.1383 - val_categorical_accuracy: 0.9674 - lr: 1.0000e-05\n",
            "Epoch 77/200\n",
            "20000/20000 [==============================] - 49s 2ms/step - loss: 0.1384 - categorical_accuracy: 0.9672 - val_loss: 0.1386 - val_categorical_accuracy: 0.9669 - lr: 1.0000e-05\n",
            "Epoch 78/200\n",
            "20000/20000 [==============================] - 48s 2ms/step - loss: 0.1383 - categorical_accuracy: 0.9672 - val_loss: 0.1388 - val_categorical_accuracy: 0.9669 - lr: 1.0000e-05\n",
            "Epoch 79/200\n",
            "20000/20000 [==============================] - 46s 2ms/step - loss: 0.1383 - categorical_accuracy: 0.9671 - val_loss: 0.1380 - val_categorical_accuracy: 0.9673 - lr: 1.0000e-05\n",
            "Epoch 80/200\n",
            "20000/20000 [==============================] - 48s 2ms/step - loss: 0.1385 - categorical_accuracy: 0.9670 - val_loss: 0.1388 - val_categorical_accuracy: 0.9669 - lr: 1.0000e-05\n",
            "Epoch 81/200\n",
            "20000/20000 [==============================] - 46s 2ms/step - loss: 0.1385 - categorical_accuracy: 0.9670 - val_loss: 0.1381 - val_categorical_accuracy: 0.9679 - lr: 1.0000e-05\n",
            "Epoch 82/200\n",
            "20000/20000 [==============================] - 48s 2ms/step - loss: 0.1383 - categorical_accuracy: 0.9672 - val_loss: 0.1381 - val_categorical_accuracy: 0.9675 - lr: 1.0000e-05\n",
            "Epoch 83/200\n",
            "20000/20000 [==============================] - 48s 2ms/step - loss: 0.1384 - categorical_accuracy: 0.9673 - val_loss: 0.1385 - val_categorical_accuracy: 0.9671 - lr: 1.0000e-05\n",
            "Epoch 84/200\n",
            "20000/20000 [==============================] - 46s 2ms/step - loss: 0.1384 - categorical_accuracy: 0.9671 - val_loss: 0.1389 - val_categorical_accuracy: 0.9665 - lr: 1.0000e-05\n",
            "Epoch 85/200\n",
            "20000/20000 [==============================] - 49s 2ms/step - loss: 0.1385 - categorical_accuracy: 0.9671 - val_loss: 0.1389 - val_categorical_accuracy: 0.9667 - lr: 1.0000e-05\n",
            "Epoch 86/200\n",
            "20000/20000 [==============================] - 46s 2ms/step - loss: 0.1384 - categorical_accuracy: 0.9670 - val_loss: 0.1388 - val_categorical_accuracy: 0.9670 - lr: 1.0000e-05\n",
            "Epoch 87/200\n",
            "20000/20000 [==============================] - 51s 3ms/step - loss: 0.1383 - categorical_accuracy: 0.9672 - val_loss: 0.1385 - val_categorical_accuracy: 0.9674 - lr: 1.0000e-05\n",
            "Epoch 88/200\n",
            "20000/20000 [==============================] - 47s 2ms/step - loss: 0.1382 - categorical_accuracy: 0.9672 - val_loss: 0.1385 - val_categorical_accuracy: 0.9673 - lr: 1.0000e-05\n",
            "Epoch 89/200\n",
            "20000/20000 [==============================] - 49s 2ms/step - loss: 0.1383 - categorical_accuracy: 0.9671 - val_loss: 0.1385 - val_categorical_accuracy: 0.9675 - lr: 1.0000e-05\n",
            "Epoch 90/200\n",
            "20000/20000 [==============================] - 48s 2ms/step - loss: 0.1383 - categorical_accuracy: 0.9671 - val_loss: 0.1387 - val_categorical_accuracy: 0.9669 - lr: 1.0000e-05\n",
            "Epoch 91/200\n",
            "20000/20000 [==============================] - 48s 2ms/step - loss: 0.1384 - categorical_accuracy: 0.9671 - val_loss: 0.1378 - val_categorical_accuracy: 0.9678 - lr: 1.0000e-05\n",
            "Epoch 92/200\n",
            "20000/20000 [==============================] - 48s 2ms/step - loss: 0.1385 - categorical_accuracy: 0.9670 - val_loss: 0.1385 - val_categorical_accuracy: 0.9669 - lr: 1.0000e-05\n",
            "Epoch 93/200\n",
            "20000/20000 [==============================] - 48s 2ms/step - loss: 0.1382 - categorical_accuracy: 0.9672 - val_loss: 0.1380 - val_categorical_accuracy: 0.9676 - lr: 1.0000e-05\n",
            "Epoch 94/200\n",
            "20000/20000 [==============================] - 46s 2ms/step - loss: 0.1383 - categorical_accuracy: 0.9674 - val_loss: 0.1391 - val_categorical_accuracy: 0.9668 - lr: 1.0000e-05\n",
            "Epoch 95/200\n",
            "20000/20000 [==============================] - 48s 2ms/step - loss: 0.1384 - categorical_accuracy: 0.9671 - val_loss: 0.1390 - val_categorical_accuracy: 0.9667 - lr: 1.0000e-05\n",
            "Epoch 96/200\n",
            "20000/20000 [==============================] - 47s 2ms/step - loss: 0.1382 - categorical_accuracy: 0.9672 - val_loss: 0.1382 - val_categorical_accuracy: 0.9671 - lr: 1.0000e-05\n",
            "Epoch 97/200\n",
            "20000/20000 [==============================] - 48s 2ms/step - loss: 0.1382 - categorical_accuracy: 0.9672 - val_loss: 0.1387 - val_categorical_accuracy: 0.9672 - lr: 1.0000e-05\n",
            "Epoch 98/200\n",
            "20000/20000 [==============================] - 48s 2ms/step - loss: 0.1384 - categorical_accuracy: 0.9672 - val_loss: 0.1382 - val_categorical_accuracy: 0.9668 - lr: 1.0000e-05\n",
            "Epoch 99/200\n",
            "20000/20000 [==============================] - 47s 2ms/step - loss: 0.1385 - categorical_accuracy: 0.9671 - val_loss: 0.1382 - val_categorical_accuracy: 0.9672 - lr: 1.0000e-05\n"
          ]
        }
      ],
      "source": [
        "# Training record\n",
        "################################################################################\n",
        "\n",
        "history = biDense_model.fit(polar_generator(batchsize=batchsize, grid=(10,10), flat=True),\n",
        "                              validation_data=polar_generator(batchsize=batchsize, grid=(10,10), flat=True), \n",
        "                              steps_per_epoch=steps_per_epoch, \n",
        "                              validation_steps=validation_steps, \n",
        "                              epochs=epochs,\n",
        "                              shuffle=True, \n",
        "                              callbacks =[reduce_lr, earlystopping])"
      ]
    },
    {
      "cell_type": "markdown",
      "metadata": {
        "id": "gpnnyCR5jqZw"
      },
      "source": [
        "#### History about accuracy on validation test, and plots"
      ]
    },
    {
      "cell_type": "code",
      "execution_count": 13,
      "metadata": {
        "colab": {
          "base_uri": "https://localhost:8080/"
        },
        "id": "l7Ae-lRYuXOE",
        "outputId": "e88496ef-4300-45b8-8590-b8492a44c67c"
      },
      "outputs": [
        {
          "data": {
            "text/plain": [
              "0.9679335951805115"
            ]
          },
          "execution_count": 13,
          "metadata": {},
          "output_type": "execute_result"
        }
      ],
      "source": [
        "np.max(history.history[\"val_categorical_accuracy\"])"
      ]
    },
    {
      "cell_type": "code",
      "execution_count": 14,
      "metadata": {
        "colab": {
          "base_uri": "https://localhost:8080/"
        },
        "id": "BChrlHhEjyRu",
        "outputId": "12e3c63c-6a00-480d-c0a3-79e892bbba3d"
      },
      "outputs": [
        {
          "data": {
            "text/plain": [
              "[0.8241093754768372,\n",
              " 0.8202675580978394,\n",
              " 0.8512929677963257,\n",
              " 0.8599062561988831,\n",
              " 0.8798086047172546,\n",
              " 0.8669883012771606,\n",
              " 0.812005877494812,\n",
              " 0.844363272190094,\n",
              " 0.8721230626106262,\n",
              " 0.8786640763282776,\n",
              " 0.8743769526481628,\n",
              " 0.7458339929580688,\n",
              " 0.8652480244636536,\n",
              " 0.9457480311393738,\n",
              " 0.9533241987228394,\n",
              " 0.9417499899864197,\n",
              " 0.930593729019165,\n",
              " 0.9493691325187683,\n",
              " 0.9409199357032776,\n",
              " 0.9588671922683716,\n",
              " 0.9563613533973694,\n",
              " 0.9436718821525574,\n",
              " 0.9520702958106995,\n",
              " 0.9128769636154175,\n",
              " 0.951730489730835,\n",
              " 0.958322286605835,\n",
              " 0.9336386919021606,\n",
              " 0.9457890391349792,\n",
              " 0.9487226605415344,\n",
              " 0.9557871222496033,\n",
              " 0.9518867135047913,\n",
              " 0.9535664319992065,\n",
              " 0.9420351386070251,\n",
              " 0.9509375095367432,\n",
              " 0.9640468955039978,\n",
              " 0.9639726281166077,\n",
              " 0.9608144760131836,\n",
              " 0.9632988572120667,\n",
              " 0.9603632688522339,\n",
              " 0.9670566320419312,\n",
              " 0.9669198989868164,\n",
              " 0.9662773609161377,\n",
              " 0.9670878648757935,\n",
              " 0.9667832255363464,\n",
              " 0.965939462184906,\n",
              " 0.9669746160507202,\n",
              " 0.9666953086853027,\n",
              " 0.9671855568885803,\n",
              " 0.9672324061393738,\n",
              " 0.9676367044448853,\n",
              " 0.9669941663742065,\n",
              " 0.9673905968666077,\n",
              " 0.9670116901397705,\n",
              " 0.9669668078422546,\n",
              " 0.9667988419532776,\n",
              " 0.9672617316246033,\n",
              " 0.9666054844856262,\n",
              " 0.9668652415275574,\n",
              " 0.9665722846984863,\n",
              " 0.9670683741569519,\n",
              " 0.9673437476158142,\n",
              " 0.966867208480835,\n",
              " 0.9678671956062317,\n",
              " 0.9667929410934448,\n",
              " 0.9668710827827454,\n",
              " 0.9674413800239563,\n",
              " 0.9679335951805115,\n",
              " 0.9669570326805115,\n",
              " 0.9671406149864197,\n",
              " 0.9667304754257202,\n",
              " 0.9673125147819519,\n",
              " 0.9671191573143005,\n",
              " 0.9672324061393738,\n",
              " 0.9664551019668579,\n",
              " 0.966314435005188,\n",
              " 0.9674140810966492,\n",
              " 0.966873049736023,\n",
              " 0.9668613076210022,\n",
              " 0.9672734141349792,\n",
              " 0.9668788909912109,\n",
              " 0.9678613543510437,\n",
              " 0.9674667716026306,\n",
              " 0.9671367406845093,\n",
              " 0.9664531350135803,\n",
              " 0.9666601419448853,\n",
              " 0.9669980406761169,\n",
              " 0.9673925638198853,\n",
              " 0.9673241972923279,\n",
              " 0.9674999713897705,\n",
              " 0.9668691158294678,\n",
              " 0.9677988290786743,\n",
              " 0.9669257998466492,\n",
              " 0.9676386713981628,\n",
              " 0.9668164253234863,\n",
              " 0.9667402505874634,\n",
              " 0.967111349105835,\n",
              " 0.9672421813011169,\n",
              " 0.9668144583702087,\n",
              " 0.9671875238418579]"
            ]
          },
          "execution_count": 14,
          "metadata": {},
          "output_type": "execute_result"
        }
      ],
      "source": [
        "history.history[\"val_categorical_accuracy\"]"
      ]
    },
    {
      "cell_type": "code",
      "execution_count": 15,
      "metadata": {
        "colab": {
          "base_uri": "https://localhost:8080/",
          "height": 611
        },
        "id": "XFcNTvWpj3mG",
        "outputId": "12346768-3025-4b83-cd80-e83a4847732f"
      },
      "outputs": [
        {
          "name": "stdout",
          "output_type": "stream",
          "text": [
            "dict_keys(['loss', 'categorical_accuracy', 'val_loss', 'val_categorical_accuracy', 'lr'])\n"
          ]
        },
        {
          "data": {
            "image/png": "[encoded data removed]",
            "text/plain": [
              "<Figure size 432x288 with 1 Axes>"
            ]
          },
          "metadata": {
            "needs_background": "light"
          },
          "output_type": "display_data"
        },
        {
          "data": {
            "image/png": "[encoded data removed]",
            "text/plain": [
              "<Figure size 432x288 with 1 Axes>"
            ]
          },
          "metadata": {
            "needs_background": "light"
          },
          "output_type": "display_data"
        }
      ],
      "source": [
        "plot_history(history)"
      ]
    },
    {
      "cell_type": "markdown",
      "metadata": {
        "id": "2QARjYmpj6NB"
      },
      "source": [
        "## **Section 4**: Evaluation of the model"
      ]
    },
    {
      "cell_type": "markdown",
      "metadata": {
        "id": "kHUkvnkrkLur"
      },
      "source": [
        "The evaluation has been done on: **200000** samples"
      ]
    },
    {
      "cell_type": "code",
      "execution_count": 16,
      "metadata": {
        "colab": {
          "base_uri": "https://localhost:8080/"
        },
        "id": "-AuamcEOkH4l",
        "outputId": "6b9d4d0a-25c3-4dc3-ec38-41d003dcf3c9"
      },
      "outputs": [
        {
          "name": "stdout",
          "output_type": "stream",
          "text": [
            "6250/6250 [==============================] - 6s 933us/step\n",
            "Over 200000 predictions done by the model,\n",
            "The number of correct guesses is 194136.\n",
            "\n",
            "\n",
            "Thus resulting in a 97.07% of accuracy.\n",
            "\n",
            "\n",
            "The model <keras.engine.functional.Functional object at 0x7fccc8ccdb50> satisfies the basic requirements: True\n"
          ]
        },
        {
          "data": {
            "text/plain": [
              "True"
            ]
          },
          "execution_count": 16,
          "metadata": {},
          "output_type": "execute_result"
        }
      ],
      "source": [
        "compute_accuracy(biDense_model, polar_generator, 200000)"
      ]
    }
  ],
  "metadata": {
    "accelerator": "GPU",
    "colab": {
      "provenance": []
    },
    "gpuClass": "standard",
    "kernelspec": {
      "display_name": "Python 3",
      "name": "python3"
    },
    "language_info": {
      "name": "python"
    }
  },
  "nbformat": 4,
  "nbformat_minor": 0
}
