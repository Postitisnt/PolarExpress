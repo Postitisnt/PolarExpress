{
  "nbformat": 4,
  "nbformat_minor": 0,
  "metadata": {
    "colab": {
      "provenance": []
    },
    "kernelspec": {
      "name": "python3",
      "display_name": "Python 3"
    },
    "language_info": {
      "name": "python"
    },
    "accelerator": "GPU",
    "gpuClass": "standard"
  },
  "cells": [
    {
      "cell_type": "markdown",
      "source": [
        "# **Polar Express**\n",
        "----------------\n",
        "##### **Paolini Lorenzo** - Matricola n. 0001056503"
      ],
      "metadata": {
        "id": "Ajvn915fW-qY"
      }
    },
    {
      "cell_type": "markdown",
      "source": [
        "The following notebook is divided into 4 different sections:\n",
        "- **Section 1**: Definition of all the functions that will be used to build, train and evaluate the model. `polar_generator` is the default function, it has not been modified. In this section you will find the functions `compute_accuracy` (*useful to compute the accuracy of the model*), `plot_history` (*useful to plot the accuracy and loss lines during the training step*), and the two functions `earlystopping` and `reduce_lr` (both these functions are `callback` functions and are useful to, respectively, *stop the training process if the model starts to go in overfitting*, and to *dynamically scale by a factor of* 0.1 *the learning rate of the model if there is the possibility that it is stuck in a plateau*);\n",
        "- **Section 2**: Definition of the model, model summary, and hyperparameters settings;\n",
        "- **Section 3**: Training process, history of training, accuracy and loss plots on validation set;\n",
        "- **Section 4**: Contains the evaluation of the model done by the previously defined accuracy function. The function returns the number of prediction done by the network, the number of correct predictions, the accuracy (in percentage) of the model, and whether it satisfies or not the basic requirement of a 95% accuracy."
      ],
      "metadata": {
        "id": "zVXDQEmNXUKg"
      }
    },
    {
      "cell_type": "markdown",
      "source": [
        "<font color=\"red\"><b><i>Pay attention: I have used the Flat variant of the generator by setting `flat=True` in all the instances of the generator</i></b></font>"
      ],
      "metadata": {
        "id": "ulB1aCsecShi"
      }
    },
    {
      "cell_type": "code",
      "source": [
        "import numpy as np\n",
        "import tensorflow as tf\n",
        "from keras.layers import Input, Conv2D, Flatten, Dense, concatenate, Reshape\n",
        "from tensorflow.keras.optimizers import Adam\n",
        "from tensorflow.keras.models import Model\n",
        "from keras import callbacks\n",
        "import matplotlib.pyplot as plt"
      ],
      "metadata": {
        "id": "EtOyq4_fbsgU"
      },
      "execution_count": 1,
      "outputs": []
    },
    {
      "cell_type": "markdown",
      "source": [
        "## **Section 1**: Functions"
      ],
      "metadata": {
        "id": "DAAcBMbubFYB"
      }
    },
    {
      "cell_type": "markdown",
      "source": [
        "#### Generator\n",
        "It is the original generator, treated as a black box and not modified."
      ],
      "metadata": {
        "id": "f6G58FxKbKWQ"
      }
    },
    {
      "cell_type": "code",
      "execution_count": 2,
      "metadata": {
        "id": "Oi4owbjjW1cK"
      },
      "outputs": [],
      "source": [
        "def polar_generator(batchsize,grid=(10,10),noise=.002,flat=False):\n",
        "  while True:\n",
        "    x = np.random.rand(batchsize)\n",
        "    y = np.random.rand(batchsize)\n",
        "    out = np.zeros((batchsize,grid[0],grid[1]))\n",
        "    xc = (x*grid[0]).astype(int)\n",
        "    yc = (y*grid[1]).astype(int)\n",
        "    for b in range(batchsize):\n",
        "      out[b,xc[b],yc[b]] = 1\n",
        "    #compute rho and theta and add some noise\n",
        "    rho = np.sqrt(x**2+y**2) + np.random.normal(scale=noise)\n",
        "    theta = np.arctan(y/np.maximum(x,.00001)) + np.random.normal(scale=noise)\n",
        "    if flat:\n",
        "      out = np.reshape(out,(batchsize,grid[0]*grid[1]))\n",
        "    yield ((theta,rho),out)"
      ]
    },
    {
      "cell_type": "markdown",
      "source": [
        "#### Visualization function"
      ],
      "metadata": {
        "id": "18tiaQBtc2uo"
      }
    },
    {
      "cell_type": "code",
      "source": [
        "# Visualization of training parameters function\n",
        "################################################################################\n",
        "\n",
        "def plot_history(history):\n",
        "    \"\"\"\n",
        "    plot_history takes in input the history record of the model\n",
        "    It computes the accuracy line on validation set per epoch, and the loss line per epoch\n",
        "    \"\"\"\n",
        "    print(history.history.keys())\n",
        "    # summarize history for categorical_accuracy\n",
        "    plt.plot(history.history['categorical_accuracy'])\n",
        "    plt.plot(history.history['val_categorical_accuracy'])\n",
        "    plt.title('model accuracy')\n",
        "    plt.ylabel('accuracy')\n",
        "    plt.xlabel('epoch')\n",
        "    plt.legend(['train', 'validation'], loc='upper left')\n",
        "    plt.show()\n",
        "    # summarize history for loss\n",
        "    plt.plot(history.history['loss'])\n",
        "    plt.plot(history.history['val_loss'])\n",
        "    plt.title('model loss')\n",
        "    plt.ylabel('loss')\n",
        "    plt.xlabel('epoch')\n",
        "    plt.legend(['train', 'validation'], loc='upper left')\n",
        "    plt.show()"
      ],
      "metadata": {
        "id": "ES1M7H-gc6Mg"
      },
      "execution_count": 3,
      "outputs": []
    },
    {
      "cell_type": "markdown",
      "source": [
        "#### Accuracy function"
      ],
      "metadata": {
        "id": "yTY4O-IddMVw"
      }
    },
    {
      "cell_type": "code",
      "source": [
        "# Accuracy function\n",
        "################################################################################\n",
        "\n",
        "def compute_accuracy(model, generator, test_sample_size):\n",
        "    \"\"\"\n",
        "    The function takes in input the model, the generator, and the number of samples \n",
        "    you want to use to evaluate the accuracy of the model.\n",
        "    \"\"\"\n",
        "    test_gen = polar_generator(batchsize=test_sample_size, grid=(10,10), flat=True)\n",
        "    (theta, rho), maps = next(test_gen)\n",
        "    pred = model.predict([theta, rho])\n",
        "    n_correct_guess = 0\n",
        "    for i, map in enumerate(pred):\n",
        "      if np.argmax(map) == np.argmax(maps[i]):\n",
        "          n_correct_guess+=1\n",
        "    model_accuracy = 100*(n_correct_guess/len(maps))\n",
        "    print(\"Over {} predictions done by the model,\".format(len(maps)))\n",
        "    print(\"The number of correct guesses is {}.\".format(n_correct_guess))\n",
        "    print(\"\\n\")\n",
        "    print(\"Thus resulting in a {:.2f}% of accuracy.\".format(model_accuracy))\n",
        "    print(\"\\n\")\n",
        "    if model_accuracy >= 95:\n",
        "      basic_requirements = True\n",
        "    else:\n",
        "      basic_requirements = False\n",
        "    print(\"The model {} satisfies the basic requirements: {}\".format(model, basic_requirements))\n",
        "    return basic_requirements"
      ],
      "metadata": {
        "id": "67AN2HHLdUCh"
      },
      "execution_count": 16,
      "outputs": []
    },
    {
      "cell_type": "markdown",
      "source": [
        "#### Callback functions\n",
        "As specified in the introduction, this section contains the definition of 2 callback functions."
      ],
      "metadata": {
        "id": "OGD71L70dv1O"
      }
    },
    {
      "cell_type": "code",
      "source": [
        "earlystopping = callbacks.EarlyStopping(monitor =\"val_loss\", \n",
        "                                        mode =\"auto\", patience = 16, \n",
        "                                        restore_best_weights = True)"
      ],
      "metadata": {
        "id": "iTND-o05d8hw"
      },
      "execution_count": 7,
      "outputs": []
    },
    {
      "cell_type": "code",
      "source": [
        "reduce_lr = callbacks.ReduceLROnPlateau(monitor='val_loss', factor=0.1,\n",
        "                                        patience=4, min_lr=0.000001)"
      ],
      "metadata": {
        "id": "YroSfX6olHO9"
      },
      "execution_count": 6,
      "outputs": []
    },
    {
      "cell_type": "markdown",
      "source": [
        "## **Section 2**: Model"
      ],
      "metadata": {
        "id": "205m0EzGeIzg"
      }
    },
    {
      "cell_type": "markdown",
      "source": [
        "#### Model definition\n",
        "I have decided to concatenate the two inputs (theta and rho), and to reshape their dimension into a (1,1,2) grid (basically a 2D grid). This has been done in order to use two 2D convolutional layers to extract the main features of the input, the first composed by a (1,1) kernel, applying three filters, and the second by six filters and a (1,1) kernel again. Additionally, I have defined a  Flatten layer to reshape the output of the previous convolutional layer to a one-dimension array that could be processed by the output layer, which is a Dense layer, aimed to produce the probability mapping of the prediction. </br></br>\n",
        "The optimizer I have used is `Adam`, and I have set the initial learning rate to 0.01.</br></br>\n",
        "The activation functions of the two convolutional layers are, respectively, the `tanh` and the `relu` functions, while to compute the final prediction I have used the `softmax` function, in order to produce a probability mapping into the 100 values array. The loss function has been initialized to be the `categorical_crossentropy`."
      ],
      "metadata": {
        "id": "eziKA5GQeNH3"
      }
    },
    {
      "cell_type": "code",
      "source": [
        "##################################\n",
        "# Model Name = Dual_conv_model\n",
        "##################################\n",
        "\n",
        "# Define optimizer and initial learning rate\n",
        "optimizer = Adam(learning_rate=0.01)\n",
        "\n",
        "# Define the inputs and concatenate them\n",
        "theta = Input(shape=(1,))\n",
        "rho = Input(shape=(1,))\n",
        "concatenated_inputs = concatenate([theta, rho])\n",
        "\n",
        "# Reshape input to a 2D grid\n",
        "reshaping_layer = Reshape((1,1,2))(concatenated_inputs)\n",
        "\n",
        "# Define the two convolutional layers\n",
        "first_convolutional_layer = Conv2D(3, (1, 1), activation='tanh')(reshaping_layer)\n",
        "second_convolutional_layer = Conv2D(6, (1, 1), activation='relu')(first_convolutional_layer)\n",
        "\n",
        "# Flatten the output produced by the convolutional layers\n",
        "flat_layer = Flatten()(second_convolutional_layer)\n",
        "\n",
        "# Output Dense layer\n",
        "output = Dense(100, activation='softmax')(flat_layer)\n",
        "\n",
        "# Build and compile the model\n",
        "Dual_conv_model = Model(inputs=[theta, rho], outputs=output)\n",
        "Dual_conv_model.compile(optimizer=optimizer, loss='categorical_crossentropy', metrics=['categorical_accuracy'])"
      ],
      "metadata": {
        "id": "RuoE6POLebTq"
      },
      "execution_count": 8,
      "outputs": []
    },
    {
      "cell_type": "markdown",
      "source": [
        "Now, I print on screen the summary of the model."
      ],
      "metadata": {
        "id": "_K19AtYOikz4"
      }
    },
    {
      "cell_type": "code",
      "source": [
        "Dual_conv_model.summary()"
      ],
      "metadata": {
        "colab": {
          "base_uri": "https://localhost:8080/"
        },
        "id": "Bp5KQu4Vigwe",
        "outputId": "a74d0cb8-2849-4924-960a-1db40ad2b02e"
      },
      "execution_count": 9,
      "outputs": [
        {
          "output_type": "stream",
          "name": "stdout",
          "text": [
            "Model: \"model\"\n",
            "__________________________________________________________________________________________________\n",
            " Layer (type)                   Output Shape         Param #     Connected to                     \n",
            "==================================================================================================\n",
            " input_1 (InputLayer)           [(None, 1)]          0           []                               \n",
            "                                                                                                  \n",
            " input_2 (InputLayer)           [(None, 1)]          0           []                               \n",
            "                                                                                                  \n",
            " concatenate (Concatenate)      (None, 2)            0           ['input_1[0][0]',                \n",
            "                                                                  'input_2[0][0]']                \n",
            "                                                                                                  \n",
            " reshape (Reshape)              (None, 1, 1, 2)      0           ['concatenate[0][0]']            \n",
            "                                                                                                  \n",
            " conv2d (Conv2D)                (None, 1, 1, 3)      9           ['reshape[0][0]']                \n",
            "                                                                                                  \n",
            " conv2d_1 (Conv2D)              (None, 1, 1, 6)      24          ['conv2d[0][0]']                 \n",
            "                                                                                                  \n",
            " flatten (Flatten)              (None, 6)            0           ['conv2d_1[0][0]']               \n",
            "                                                                                                  \n",
            " dense (Dense)                  (None, 100)          700         ['flatten[0][0]']                \n",
            "                                                                                                  \n",
            "==================================================================================================\n",
            "Total params: 733\n",
            "Trainable params: 733\n",
            "Non-trainable params: 0\n",
            "__________________________________________________________________________________________________\n"
          ]
        }
      ]
    },
    {
      "cell_type": "markdown",
      "source": [
        "#### Setting hyperparameters "
      ],
      "metadata": {
        "id": "wWyzZU-BiscM"
      }
    },
    {
      "cell_type": "code",
      "source": [
        "batchsize = 128\n",
        "epochs = 100\n",
        "steps_per_epoch = 2000 \n",
        "validation_steps = 200 "
      ],
      "metadata": {
        "id": "knMCEE_Si2oz"
      },
      "execution_count": 10,
      "outputs": []
    },
    {
      "cell_type": "markdown",
      "source": [
        "## **Section 3**: Training and history"
      ],
      "metadata": {
        "id": "A0eiatIci8Rh"
      }
    },
    {
      "cell_type": "markdown",
      "source": [
        "#### Training"
      ],
      "metadata": {
        "id": "UCQB-CDBjLFw"
      }
    },
    {
      "cell_type": "markdown",
      "source": [
        "Thanks to the `early_stopping` function, the model will stop training before overfitting, and also before the entirety of the epochs."
      ],
      "metadata": {
        "id": "ft7ooH1_jaTP"
      }
    },
    {
      "cell_type": "code",
      "source": [
        "# Training record\n",
        "################################################################################\n",
        "\n",
        "history = Dual_conv_model.fit(polar_generator(batchsize=batchsize, grid=(10,10), flat=True),\n",
        "                              validation_data=polar_generator(batchsize=batchsize, grid=(10,10), flat=True), \n",
        "                              steps_per_epoch=steps_per_epoch, \n",
        "                              validation_steps=validation_steps, \n",
        "                              epochs=epochs,\n",
        "                              shuffle=True, \n",
        "                              callbacks =[reduce_lr, earlystopping])"
      ],
      "metadata": {
        "colab": {
          "base_uri": "https://localhost:8080/"
        },
        "id": "x0cD6ObWjNFX",
        "outputId": "eb9ffec0-9da5-4c2d-d453-aa380b555580"
      },
      "execution_count": 11,
      "outputs": [
        {
          "output_type": "stream",
          "name": "stdout",
          "text": [
            "Epoch 1/100\n",
            "2000/2000 [==============================] - 8s 4ms/step - loss: 1.4803 - categorical_accuracy: 0.5602 - val_loss: 0.7924 - val_categorical_accuracy: 0.7757 - lr: 0.0100\n",
            "Epoch 2/100\n",
            "2000/2000 [==============================] - 6s 3ms/step - loss: 0.6913 - categorical_accuracy: 0.7647 - val_loss: 0.5921 - val_categorical_accuracy: 0.8031 - lr: 0.0100\n",
            "Epoch 3/100\n",
            "2000/2000 [==============================] - 7s 3ms/step - loss: 0.5443 - categorical_accuracy: 0.8098 - val_loss: 0.5218 - val_categorical_accuracy: 0.8032 - lr: 0.0100\n",
            "Epoch 4/100\n",
            "2000/2000 [==============================] - 7s 3ms/step - loss: 0.4766 - categorical_accuracy: 0.8269 - val_loss: 0.4266 - val_categorical_accuracy: 0.8597 - lr: 0.0100\n",
            "Epoch 5/100\n",
            "2000/2000 [==============================] - 8s 4ms/step - loss: 0.4330 - categorical_accuracy: 0.8392 - val_loss: 0.4011 - val_categorical_accuracy: 0.8504 - lr: 0.0100\n",
            "Epoch 6/100\n",
            "2000/2000 [==============================] - 7s 3ms/step - loss: 0.4024 - categorical_accuracy: 0.8488 - val_loss: 0.3689 - val_categorical_accuracy: 0.8666 - lr: 0.0100\n",
            "Epoch 7/100\n",
            "2000/2000 [==============================] - 7s 3ms/step - loss: 0.3766 - categorical_accuracy: 0.8557 - val_loss: 0.3634 - val_categorical_accuracy: 0.8634 - lr: 0.0100\n",
            "Epoch 8/100\n",
            "2000/2000 [==============================] - 7s 4ms/step - loss: 0.3647 - categorical_accuracy: 0.8583 - val_loss: 0.3534 - val_categorical_accuracy: 0.8580 - lr: 0.0100\n",
            "Epoch 9/100\n",
            "2000/2000 [==============================] - 7s 3ms/step - loss: 0.3502 - categorical_accuracy: 0.8630 - val_loss: 0.3620 - val_categorical_accuracy: 0.8604 - lr: 0.0100\n",
            "Epoch 10/100\n",
            "2000/2000 [==============================] - 8s 4ms/step - loss: 0.3397 - categorical_accuracy: 0.8662 - val_loss: 0.3439 - val_categorical_accuracy: 0.8615 - lr: 0.0100\n",
            "Epoch 11/100\n",
            "2000/2000 [==============================] - 7s 3ms/step - loss: 0.3263 - categorical_accuracy: 0.8700 - val_loss: 0.3083 - val_categorical_accuracy: 0.8797 - lr: 0.0100\n",
            "Epoch 12/100\n",
            "2000/2000 [==============================] - 7s 3ms/step - loss: 0.3205 - categorical_accuracy: 0.8716 - val_loss: 0.3351 - val_categorical_accuracy: 0.8681 - lr: 0.0100\n",
            "Epoch 13/100\n",
            "2000/2000 [==============================] - 7s 3ms/step - loss: 0.3170 - categorical_accuracy: 0.8713 - val_loss: 0.2962 - val_categorical_accuracy: 0.8804 - lr: 0.0100\n",
            "Epoch 14/100\n",
            "2000/2000 [==============================] - 7s 3ms/step - loss: 0.3032 - categorical_accuracy: 0.8779 - val_loss: 0.3316 - val_categorical_accuracy: 0.8611 - lr: 0.0100\n",
            "Epoch 15/100\n",
            "2000/2000 [==============================] - 7s 3ms/step - loss: 0.3005 - categorical_accuracy: 0.8779 - val_loss: 0.2771 - val_categorical_accuracy: 0.8933 - lr: 0.0100\n",
            "Epoch 16/100\n",
            "2000/2000 [==============================] - 7s 3ms/step - loss: 0.2975 - categorical_accuracy: 0.8779 - val_loss: 0.2605 - val_categorical_accuracy: 0.8994 - lr: 0.0100\n",
            "Epoch 17/100\n",
            "2000/2000 [==============================] - 7s 3ms/step - loss: 0.2894 - categorical_accuracy: 0.8815 - val_loss: 0.2813 - val_categorical_accuracy: 0.8829 - lr: 0.0100\n",
            "Epoch 18/100\n",
            "2000/2000 [==============================] - 7s 3ms/step - loss: 0.2864 - categorical_accuracy: 0.8821 - val_loss: 0.2789 - val_categorical_accuracy: 0.8813 - lr: 0.0100\n",
            "Epoch 19/100\n",
            "2000/2000 [==============================] - 8s 4ms/step - loss: 0.2846 - categorical_accuracy: 0.8829 - val_loss: 0.2635 - val_categorical_accuracy: 0.8932 - lr: 0.0100\n",
            "Epoch 20/100\n",
            "2000/2000 [==============================] - 7s 3ms/step - loss: 0.2789 - categorical_accuracy: 0.8842 - val_loss: 0.2671 - val_categorical_accuracy: 0.8916 - lr: 0.0100\n",
            "Epoch 21/100\n",
            "2000/2000 [==============================] - 7s 3ms/step - loss: 0.1930 - categorical_accuracy: 0.9440 - val_loss: 0.1940 - val_categorical_accuracy: 0.9434 - lr: 1.0000e-03\n",
            "Epoch 22/100\n",
            "2000/2000 [==============================] - 7s 3ms/step - loss: 0.1919 - categorical_accuracy: 0.9436 - val_loss: 0.1890 - val_categorical_accuracy: 0.9485 - lr: 1.0000e-03\n",
            "Epoch 23/100\n",
            "2000/2000 [==============================] - 7s 3ms/step - loss: 0.1921 - categorical_accuracy: 0.9446 - val_loss: 0.1926 - val_categorical_accuracy: 0.9443 - lr: 1.0000e-03\n",
            "Epoch 24/100\n",
            "2000/2000 [==============================] - 7s 3ms/step - loss: 0.1900 - categorical_accuracy: 0.9447 - val_loss: 0.1889 - val_categorical_accuracy: 0.9494 - lr: 1.0000e-03\n",
            "Epoch 25/100\n",
            "2000/2000 [==============================] - 7s 3ms/step - loss: 0.1893 - categorical_accuracy: 0.9458 - val_loss: 0.1853 - val_categorical_accuracy: 0.9483 - lr: 1.0000e-03\n",
            "Epoch 26/100\n",
            "2000/2000 [==============================] - 7s 3ms/step - loss: 0.1892 - categorical_accuracy: 0.9450 - val_loss: 0.1892 - val_categorical_accuracy: 0.9443 - lr: 1.0000e-03\n",
            "Epoch 27/100\n",
            "2000/2000 [==============================] - 7s 3ms/step - loss: 0.1883 - categorical_accuracy: 0.9456 - val_loss: 0.1913 - val_categorical_accuracy: 0.9416 - lr: 1.0000e-03\n",
            "Epoch 28/100\n",
            "2000/2000 [==============================] - 7s 3ms/step - loss: 0.1887 - categorical_accuracy: 0.9449 - val_loss: 0.1916 - val_categorical_accuracy: 0.9425 - lr: 1.0000e-03\n",
            "Epoch 29/100\n",
            "2000/2000 [==============================] - 7s 3ms/step - loss: 0.1875 - categorical_accuracy: 0.9453 - val_loss: 0.1889 - val_categorical_accuracy: 0.9460 - lr: 1.0000e-03\n",
            "Epoch 30/100\n",
            "2000/2000 [==============================] - 7s 3ms/step - loss: 0.1793 - categorical_accuracy: 0.9560 - val_loss: 0.1813 - val_categorical_accuracy: 0.9547 - lr: 1.0000e-04\n",
            "Epoch 31/100\n",
            "2000/2000 [==============================] - 6s 3ms/step - loss: 0.1789 - categorical_accuracy: 0.9554 - val_loss: 0.1795 - val_categorical_accuracy: 0.9563 - lr: 1.0000e-04\n",
            "Epoch 32/100\n",
            "2000/2000 [==============================] - 7s 3ms/step - loss: 0.1789 - categorical_accuracy: 0.9562 - val_loss: 0.1765 - val_categorical_accuracy: 0.9588 - lr: 1.0000e-04\n",
            "Epoch 33/100\n",
            "2000/2000 [==============================] - 7s 3ms/step - loss: 0.1781 - categorical_accuracy: 0.9565 - val_loss: 0.1775 - val_categorical_accuracy: 0.9585 - lr: 1.0000e-04\n",
            "Epoch 34/100\n",
            "2000/2000 [==============================] - 7s 3ms/step - loss: 0.1785 - categorical_accuracy: 0.9562 - val_loss: 0.1766 - val_categorical_accuracy: 0.9569 - lr: 1.0000e-04\n",
            "Epoch 35/100\n",
            "2000/2000 [==============================] - 6s 3ms/step - loss: 0.1786 - categorical_accuracy: 0.9557 - val_loss: 0.1791 - val_categorical_accuracy: 0.9563 - lr: 1.0000e-04\n",
            "Epoch 36/100\n",
            "2000/2000 [==============================] - 7s 3ms/step - loss: 0.1781 - categorical_accuracy: 0.9565 - val_loss: 0.1796 - val_categorical_accuracy: 0.9555 - lr: 1.0000e-04\n",
            "Epoch 37/100\n",
            "2000/2000 [==============================] - 7s 3ms/step - loss: 0.1777 - categorical_accuracy: 0.9573 - val_loss: 0.1804 - val_categorical_accuracy: 0.9564 - lr: 1.0000e-05\n",
            "Epoch 38/100\n",
            "2000/2000 [==============================] - 7s 3ms/step - loss: 0.1778 - categorical_accuracy: 0.9576 - val_loss: 0.1770 - val_categorical_accuracy: 0.9567 - lr: 1.0000e-05\n",
            "Epoch 39/100\n",
            "2000/2000 [==============================] - 7s 3ms/step - loss: 0.1777 - categorical_accuracy: 0.9570 - val_loss: 0.1794 - val_categorical_accuracy: 0.9564 - lr: 1.0000e-05\n",
            "Epoch 40/100\n",
            "2000/2000 [==============================] - 6s 3ms/step - loss: 0.1780 - categorical_accuracy: 0.9570 - val_loss: 0.1729 - val_categorical_accuracy: 0.9610 - lr: 1.0000e-05\n",
            "Epoch 41/100\n",
            "2000/2000 [==============================] - 7s 3ms/step - loss: 0.1766 - categorical_accuracy: 0.9579 - val_loss: 0.1817 - val_categorical_accuracy: 0.9561 - lr: 1.0000e-05\n",
            "Epoch 42/100\n",
            "2000/2000 [==============================] - 7s 3ms/step - loss: 0.1777 - categorical_accuracy: 0.9572 - val_loss: 0.1764 - val_categorical_accuracy: 0.9585 - lr: 1.0000e-05\n",
            "Epoch 43/100\n",
            "2000/2000 [==============================] - 6s 3ms/step - loss: 0.1776 - categorical_accuracy: 0.9573 - val_loss: 0.1773 - val_categorical_accuracy: 0.9581 - lr: 1.0000e-05\n",
            "Epoch 44/100\n",
            "2000/2000 [==============================] - 6s 3ms/step - loss: 0.1778 - categorical_accuracy: 0.9574 - val_loss: 0.1768 - val_categorical_accuracy: 0.9579 - lr: 1.0000e-05\n",
            "Epoch 45/100\n",
            "2000/2000 [==============================] - 7s 3ms/step - loss: 0.1778 - categorical_accuracy: 0.9577 - val_loss: 0.1744 - val_categorical_accuracy: 0.9583 - lr: 1.0000e-06\n",
            "Epoch 46/100\n",
            "2000/2000 [==============================] - 7s 3ms/step - loss: 0.1774 - categorical_accuracy: 0.9575 - val_loss: 0.1765 - val_categorical_accuracy: 0.9579 - lr: 1.0000e-06\n",
            "Epoch 47/100\n",
            "2000/2000 [==============================] - 7s 3ms/step - loss: 0.1769 - categorical_accuracy: 0.9582 - val_loss: 0.1742 - val_categorical_accuracy: 0.9606 - lr: 1.0000e-06\n",
            "Epoch 48/100\n",
            "2000/2000 [==============================] - 7s 3ms/step - loss: 0.1780 - categorical_accuracy: 0.9569 - val_loss: 0.1762 - val_categorical_accuracy: 0.9564 - lr: 1.0000e-06\n",
            "Epoch 49/100\n",
            "2000/2000 [==============================] - 7s 3ms/step - loss: 0.1783 - categorical_accuracy: 0.9576 - val_loss: 0.1780 - val_categorical_accuracy: 0.9560 - lr: 1.0000e-06\n",
            "Epoch 50/100\n",
            "2000/2000 [==============================] - 6s 3ms/step - loss: 0.1777 - categorical_accuracy: 0.9579 - val_loss: 0.1800 - val_categorical_accuracy: 0.9582 - lr: 1.0000e-06\n",
            "Epoch 51/100\n",
            "2000/2000 [==============================] - 7s 3ms/step - loss: 0.1778 - categorical_accuracy: 0.9573 - val_loss: 0.1789 - val_categorical_accuracy: 0.9573 - lr: 1.0000e-06\n",
            "Epoch 52/100\n",
            "2000/2000 [==============================] - 7s 4ms/step - loss: 0.1772 - categorical_accuracy: 0.9577 - val_loss: 0.1794 - val_categorical_accuracy: 0.9563 - lr: 1.0000e-06\n",
            "Epoch 53/100\n",
            "2000/2000 [==============================] - 7s 3ms/step - loss: 0.1787 - categorical_accuracy: 0.9572 - val_loss: 0.1773 - val_categorical_accuracy: 0.9565 - lr: 1.0000e-06\n",
            "Epoch 54/100\n",
            "2000/2000 [==============================] - 7s 3ms/step - loss: 0.1768 - categorical_accuracy: 0.9580 - val_loss: 0.1757 - val_categorical_accuracy: 0.9595 - lr: 1.0000e-06\n",
            "Epoch 55/100\n",
            "2000/2000 [==============================] - 7s 3ms/step - loss: 0.1768 - categorical_accuracy: 0.9579 - val_loss: 0.1802 - val_categorical_accuracy: 0.9554 - lr: 1.0000e-06\n",
            "Epoch 56/100\n",
            "2000/2000 [==============================] - 7s 3ms/step - loss: 0.1775 - categorical_accuracy: 0.9573 - val_loss: 0.1768 - val_categorical_accuracy: 0.9576 - lr: 1.0000e-06\n"
          ]
        }
      ]
    },
    {
      "cell_type": "markdown",
      "source": [
        "#### History about accuracy on validation test, and plots"
      ],
      "metadata": {
        "id": "gpnnyCR5jqZw"
      }
    },
    {
      "cell_type": "code",
      "source": [
        "history.history[\"val_categorical_accuracy\"]"
      ],
      "metadata": {
        "colab": {
          "base_uri": "https://localhost:8080/"
        },
        "id": "BChrlHhEjyRu",
        "outputId": "2676fc75-e6e8-477b-ba84-12315e9fd331"
      },
      "execution_count": 12,
      "outputs": [
        {
          "output_type": "execute_result",
          "data": {
            "text/plain": [
              "[0.7756640911102295,\n",
              " 0.8031250238418579,\n",
              " 0.8032031059265137,\n",
              " 0.8597265481948853,\n",
              " 0.8503515720367432,\n",
              " 0.8666406273841858,\n",
              " 0.8633984327316284,\n",
              " 0.8580468893051147,\n",
              " 0.8603515625,\n",
              " 0.8614843487739563,\n",
              " 0.879687488079071,\n",
              " 0.8680859208106995,\n",
              " 0.8804296851158142,\n",
              " 0.861132800579071,\n",
              " 0.8933203220367432,\n",
              " 0.8993750214576721,\n",
              " 0.8829296827316284,\n",
              " 0.8813281059265137,\n",
              " 0.8932421803474426,\n",
              " 0.8916015625,\n",
              " 0.9434375166893005,\n",
              " 0.9485156536102295,\n",
              " 0.9442968964576721,\n",
              " 0.9493749737739563,\n",
              " 0.9483203291893005,\n",
              " 0.9442577958106995,\n",
              " 0.9415624737739563,\n",
              " 0.9424609541893005,\n",
              " 0.9460155963897705,\n",
              " 0.9546874761581421,\n",
              " 0.956250011920929,\n",
              " 0.9587500095367432,\n",
              " 0.9585156440734863,\n",
              " 0.9568750262260437,\n",
              " 0.9563281536102295,\n",
              " 0.9555078148841858,\n",
              " 0.9564062356948853,\n",
              " 0.9566797018051147,\n",
              " 0.9564062356948853,\n",
              " 0.9610156416893005,\n",
              " 0.9560937285423279,\n",
              " 0.9584765434265137,\n",
              " 0.9580859541893005,\n",
              " 0.9578515887260437,\n",
              " 0.9583203196525574,\n",
              " 0.9578906297683716,\n",
              " 0.9606249928474426,\n",
              " 0.9563671946525574,\n",
              " 0.9560156464576721,\n",
              " 0.9581640362739563,\n",
              " 0.9573437571525574,\n",
              " 0.9562890529632568,\n",
              " 0.9564843773841858,\n",
              " 0.9595312476158142,\n",
              " 0.9554296731948853,\n",
              " 0.9576171636581421]"
            ]
          },
          "metadata": {},
          "execution_count": 12
        }
      ]
    },
    {
      "cell_type": "code",
      "source": [
        "plot_history(history)"
      ],
      "metadata": {
        "colab": {
          "base_uri": "https://localhost:8080/",
          "height": 591
        },
        "id": "XFcNTvWpj3mG",
        "outputId": "0d89ed03-b144-4266-e506-1f2e4202b7ef"
      },
      "execution_count": 13,
      "outputs": [
        {
          "output_type": "stream",
          "name": "stdout",
          "text": [
            "dict_keys(['loss', 'categorical_accuracy', 'val_loss', 'val_categorical_accuracy', 'lr'])\n"
          ]
        },
        {
          "output_type": "display_data",
          "data": {
            "text/plain": [
              "<Figure size 432x288 with 1 Axes>"
            ],
            "image/png": "[encoded data removed]"
          },
          "metadata": {
            "needs_background": "light"
          }
        },
        {
          "output_type": "display_data",
          "data": {
            "text/plain": [
              "<Figure size 432x288 with 1 Axes>"
            ],
            "image/png": "[encoded data removed]"
          },
          "metadata": {
            "needs_background": "light"
          }
        }
      ]
    },
    {
      "cell_type": "markdown",
      "source": [
        "## **Section 4**: Evaluation of the model"
      ],
      "metadata": {
        "id": "2QARjYmpj6NB"
      }
    },
    {
      "cell_type": "markdown",
      "source": [
        "The evaluation has been done on: **1000000 (one million)** samples"
      ],
      "metadata": {
        "id": "kHUkvnkrkLur"
      }
    },
    {
      "cell_type": "code",
      "source": [
        "compute_accuracy(Dual_conv_model, polar_generator, 1000000)"
      ],
      "metadata": {
        "colab": {
          "base_uri": "https://localhost:8080/"
        },
        "id": "-AuamcEOkH4l",
        "outputId": "b4595f6f-5bfc-46ee-e944-3c00782bef3c"
      },
      "execution_count": 17,
      "outputs": [
        {
          "output_type": "stream",
          "name": "stdout",
          "text": [
            "31250/31250 [==============================] - 60s 2ms/step\n",
            "Over 1000000 predictions done by the model,\n",
            "The number of correct guesses is 964871.\n",
            "\n",
            "\n",
            "Thus resulting in a 96.49% of accuracy.\n",
            "\n",
            "\n",
            "The model <keras.engine.functional.Functional object at 0x7f7f2740e2b0> satisfies the basic requirements: True\n"
          ]
        },
        {
          "output_type": "execute_result",
          "data": {
            "text/plain": [
              "True"
            ]
          },
          "metadata": {},
          "execution_count": 17
        }
      ]
    }
  ]
}