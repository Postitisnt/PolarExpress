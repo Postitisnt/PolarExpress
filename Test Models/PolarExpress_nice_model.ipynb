{
  "cells": [
    {
      "cell_type": "markdown",
      "metadata": {
        "id": "Ajvn915fW-qY"
      },
      "source": [
        "# **Polar Express**\n",
        "----------------\n",
        "##### **Paolini Lorenzo** - Matricola n. 0001056503"
      ]
    },
    {
      "cell_type": "markdown",
      "metadata": {
        "id": "zVXDQEmNXUKg"
      },
      "source": [
        "The following notebook is divided into 4 different sections:\n",
        "- **Section 1**: Definition of all the functions that will be used to build, train and evaluate the model. `polar_generator` is the default function, it has not been modified. In this section you will find the functions `compute_accuracy` (*useful to compute the accuracy of the model*), `plot_history` (*useful to plot the accuracy and loss lines during the training step*), and the two functions `earlystopping` and `reduce_lr` (both these functions are `callback` functions and are useful to, respectively, *stop the training process if the model stops learning*, and to *dynamically scale by a factor of* 0.1 *the learning rate of the model if there is the possibility that it is stuck in a plateau*);\n",
        "- **Section 2**: Definition of the model, model summary, and hyperparameters settings;\n",
        "- **Section 3**: Training process, history of training, accuracy and loss plots on validation set;\n",
        "- **Section 4**: Contains the evaluation of the model done by the previously defined accuracy function. The function returns the total number of predictions done by the network, the number of correct predictions, the accuracy (in percentage) of the model, and whether it satisfies or not the basic requirement of a 95% accuracy."
      ]
    },
    {
      "cell_type": "markdown",
      "metadata": {
        "id": "ulB1aCsecShi"
      },
      "source": [
        "<font color=\"red\"><b><i>I have used the Flat variant of the generator by setting `flat=True` in all the instances of the generator</i></b></font>"
      ]
    },
    {
      "cell_type": "code",
      "execution_count": 1,
      "metadata": {
        "id": "EtOyq4_fbsgU"
      },
      "outputs": [],
      "source": [
        "import numpy as np\n",
        "import tensorflow as tf\n",
        "from keras.layers import Input, Conv2D, Flatten, Dense, concatenate, Reshape\n",
        "from tensorflow.keras.optimizers import Adam\n",
        "from tensorflow.keras.models import Model\n",
        "from keras import callbacks\n",
        "import matplotlib.pyplot as plt"
      ]
    },
    {
      "cell_type": "markdown",
      "metadata": {
        "id": "DAAcBMbubFYB"
      },
      "source": [
        "## **Section 1**: Functions"
      ]
    },
    {
      "cell_type": "markdown",
      "metadata": {
        "id": "f6G58FxKbKWQ"
      },
      "source": [
        "#### Generator\n",
        "It is the original generator, treated as a black box and not modified."
      ]
    },
    {
      "cell_type": "code",
      "execution_count": 2,
      "metadata": {
        "id": "Oi4owbjjW1cK"
      },
      "outputs": [],
      "source": [
        "def polar_generator(batchsize,grid=(10,10),noise=.002,flat=False):\n",
        "  while True:\n",
        "    x = np.random.rand(batchsize)\n",
        "    y = np.random.rand(batchsize)\n",
        "    out = np.zeros((batchsize,grid[0],grid[1]))\n",
        "    xc = (x*grid[0]).astype(int)\n",
        "    yc = (y*grid[1]).astype(int)\n",
        "    for b in range(batchsize):\n",
        "      out[b,xc[b],yc[b]] = 1\n",
        "    #compute rho and theta and add some noise\n",
        "    rho = np.sqrt(x**2+y**2) + np.random.normal(scale=noise)\n",
        "    theta = np.arctan(y/np.maximum(x,.00001)) + np.random.normal(scale=noise)\n",
        "    if flat:\n",
        "      out = np.reshape(out,(batchsize,grid[0]*grid[1]))\n",
        "    yield ((theta,rho),out)"
      ]
    },
    {
      "cell_type": "markdown",
      "metadata": {
        "id": "18tiaQBtc2uo"
      },
      "source": [
        "#### Visualization function"
      ]
    },
    {
      "cell_type": "code",
      "execution_count": 3,
      "metadata": {
        "id": "ES1M7H-gc6Mg"
      },
      "outputs": [],
      "source": [
        "# Visualization of training parameters function\n",
        "################################################################################\n",
        "\n",
        "def plot_history(history):\n",
        "    \"\"\"\n",
        "    plot_history takes in input the history record of the model\n",
        "    It computes the accuracy line on validation set per epoch, and the loss line per epoch\n",
        "    \"\"\"\n",
        "    print(history.history.keys())\n",
        "    # summarize history for categorical_accuracy\n",
        "    plt.plot(history.history['categorical_accuracy'])\n",
        "    plt.plot(history.history['val_categorical_accuracy'])\n",
        "    plt.title('model accuracy')\n",
        "    plt.ylabel('accuracy')\n",
        "    plt.xlabel('epoch')\n",
        "    plt.legend(['train', 'validation'], loc='upper left')\n",
        "    plt.show()\n",
        "    # summarize history for loss\n",
        "    plt.plot(history.history['loss'])\n",
        "    plt.plot(history.history['val_loss'])\n",
        "    plt.title('model loss')\n",
        "    plt.ylabel('loss')\n",
        "    plt.xlabel('epoch')\n",
        "    plt.legend(['train', 'validation'], loc='upper left')\n",
        "    plt.show()"
      ]
    },
    {
      "cell_type": "markdown",
      "metadata": {
        "id": "yTY4O-IddMVw"
      },
      "source": [
        "#### Accuracy function"
      ]
    },
    {
      "cell_type": "code",
      "execution_count": 4,
      "metadata": {
        "id": "67AN2HHLdUCh"
      },
      "outputs": [],
      "source": [
        "# Accuracy function\n",
        "################################################################################\n",
        "\n",
        "def compute_accuracy(model, generator, test_sample_size):\n",
        "    \"\"\"\n",
        "    The function takes in input the model, the generator, and the number of samples \n",
        "    you want to use to evaluate the accuracy of the model.\n",
        "    \"\"\"\n",
        "    test_gen = polar_generator(batchsize=test_sample_size, grid=(10,10), flat=True)\n",
        "    (theta, rho), maps = next(test_gen)\n",
        "    pred = model.predict([theta, rho])\n",
        "    n_correct_guess = 0\n",
        "    for i, map in enumerate(pred):\n",
        "      if np.argmax(map) == np.argmax(maps[i]):\n",
        "          n_correct_guess+=1\n",
        "    model_accuracy = 100*(n_correct_guess/len(maps))\n",
        "    print(\"Over {} predictions done by the model,\".format(len(maps)))\n",
        "    print(\"The number of correct guesses is {}.\".format(n_correct_guess))\n",
        "    print(\"\\n\")\n",
        "    print(\"Thus resulting in a {:.2f}% of accuracy.\".format(model_accuracy))\n",
        "    print(\"\\n\")\n",
        "    if model_accuracy >= 95:\n",
        "      basic_requirements = True\n",
        "    else:\n",
        "      basic_requirements = False\n",
        "    print(\"The model {} satisfies the basic requirements: {}\".format(model, basic_requirements))\n",
        "    return basic_requirements"
      ]
    },
    {
      "cell_type": "markdown",
      "metadata": {
        "id": "OGD71L70dv1O"
      },
      "source": [
        "#### Callback functions\n",
        "As specified in the introduction, this section contains the definition of 2 callback functions."
      ]
    },
    {
      "cell_type": "code",
      "execution_count": 5,
      "metadata": {
        "id": "iTND-o05d8hw"
      },
      "outputs": [],
      "source": [
        "earlystopping = callbacks.EarlyStopping(monitor =\"val_loss\", \n",
        "                                        mode =\"auto\", patience = 32, \n",
        "                                        restore_best_weights = True)"
      ]
    },
    {
      "cell_type": "code",
      "execution_count": 6,
      "metadata": {
        "id": "YroSfX6olHO9"
      },
      "outputs": [],
      "source": [
        "reduce_lr = callbacks.ReduceLROnPlateau(monitor='val_loss', factor=0.1,\n",
        "                                        patience=5, min_lr=0.000001)"
      ]
    },
    {
      "cell_type": "markdown",
      "metadata": {
        "id": "205m0EzGeIzg"
      },
      "source": [
        "## **Section 2**: Model"
      ]
    },
    {
      "cell_type": "markdown",
      "metadata": {
        "id": "eziKA5GQeNH3"
      },
      "source": [
        "#### Model definition\n",
        "I concatenated the two inputs (theta and rho), and used two Dense layers to process the coordinates. The two activation functions used for the dense layers are `swish` and `selu`. The output is processd by a final output layer, aimed to produce the probability mapping of the prediction thanks to the `softmax` function. </br>\n",
        "The optimizer I have used is `Adam`, and I have set the initial learning rate to 0.1. Even though it is pretty high, I have noticed that, in particular during the first epochs, the model do not overfit, and the loss function, that has been initialized to the `categorical_crossentropy`, continues to decrease. Obviously, during training, the learning rate will decrease by a factor of 0.1, as defined in the `reduce_lr` callback function."
      ]
    },
    {
      "cell_type": "code",
      "execution_count": 7,
      "metadata": {
        "id": "RuoE6POLebTq"
      },
      "outputs": [],
      "source": [
        "##################################\n",
        "# Model Name = biDense_model\n",
        "##################################\n",
        "\n",
        "# Define optimizer and initial learning rate\n",
        "optimizer = Adam(learning_rate=0.1)\n",
        "\n",
        "# Define the inputs and concatenate them\n",
        "theta = Input(shape=(1,))\n",
        "rho = Input(shape=(1,))\n",
        "concatenated_inputs = concatenate([theta, rho])\n",
        "\n",
        "# Define first and second Dense layers\n",
        "first_dense_layer = Dense(6, activation='swish')(concatenated_inputs)\n",
        "second_dense_layer = Dense(2, activation = 'selu')(first_dense_layer)\n",
        "\n",
        "\n",
        "# Output Dense layer\n",
        "output = Dense(100, activation='softmax')(second_dense_layer)\n",
        "\n",
        "# Build and compile the model\n",
        "biDense_model = Model(inputs=[theta, rho], outputs=output)\n",
        "biDense_model.compile(optimizer=optimizer, loss='categorical_crossentropy', metrics=['categorical_accuracy'])"
      ]
    },
    {
      "cell_type": "markdown",
      "metadata": {
        "id": "_K19AtYOikz4"
      },
      "source": [
        "Now, I print on screen the summary of the model."
      ]
    },
    {
      "cell_type": "code",
      "execution_count": 8,
      "metadata": {
        "colab": {
          "base_uri": "https://localhost:8080/"
        },
        "id": "Bp5KQu4Vigwe",
        "outputId": "3eff9abf-ed8b-489a-c80d-f85e12277354"
      },
      "outputs": [
        {
          "name": "stdout",
          "output_type": "stream",
          "text": [
            "Model: \"model\"\n",
            "__________________________________________________________________________________________________\n",
            " Layer (type)                   Output Shape         Param #     Connected to                     \n",
            "==================================================================================================\n",
            " input_1 (InputLayer)           [(None, 1)]          0           []                               \n",
            "                                                                                                  \n",
            " input_2 (InputLayer)           [(None, 1)]          0           []                               \n",
            "                                                                                                  \n",
            " concatenate (Concatenate)      (None, 2)            0           ['input_1[0][0]',                \n",
            "                                                                  'input_2[0][0]']                \n",
            "                                                                                                  \n",
            " dense (Dense)                  (None, 6)            18          ['concatenate[0][0]']            \n",
            "                                                                                                  \n",
            " dense_1 (Dense)                (None, 2)            14          ['dense[0][0]']                  \n",
            "                                                                                                  \n",
            " dense_2 (Dense)                (None, 100)          300         ['dense_1[0][0]']                \n",
            "                                                                                                  \n",
            "==================================================================================================\n",
            "Total params: 332\n",
            "Trainable params: 332\n",
            "Non-trainable params: 0\n",
            "__________________________________________________________________________________________________\n"
          ]
        }
      ],
      "source": [
        "biDense_model.summary()"
      ]
    },
    {
      "cell_type": "markdown",
      "metadata": {
        "id": "wWyzZU-BiscM"
      },
      "source": [
        "#### Setting hyperparameters "
      ]
    },
    {
      "cell_type": "code",
      "execution_count": 9,
      "metadata": {
        "id": "knMCEE_Si2oz"
      },
      "outputs": [],
      "source": [
        "batchsize = 128\n",
        "epochs = 200\n",
        "steps_per_epoch = 2000 \n",
        "validation_steps = 200 "
      ]
    },
    {
      "cell_type": "markdown",
      "metadata": {
        "id": "A0eiatIci8Rh"
      },
      "source": [
        "## **Section 3**: Training and history"
      ]
    },
    {
      "cell_type": "markdown",
      "metadata": {
        "id": "UCQB-CDBjLFw"
      },
      "source": [
        "#### Training"
      ]
    },
    {
      "cell_type": "markdown",
      "metadata": {
        "id": "ft7ooH1_jaTP"
      },
      "source": [
        "Thanks to the `early_stopping` function, the model will stop training before overfitting or stopping to learn, this allow me to also restore the best weights. The number of epochs is too high, but it is not a problem since the model will stop before the end."
      ]
    },
    {
      "cell_type": "code",
      "execution_count": 10,
      "metadata": {
        "colab": {
          "base_uri": "https://localhost:8080/"
        },
        "id": "x0cD6ObWjNFX",
        "outputId": "eb056c23-85c4-432e-93eb-d5690edcb3e3"
      },
      "outputs": [
        {
          "name": "stdout",
          "output_type": "stream",
          "text": [
            "Epoch 1/200\n",
            "2000/2000 [==============================] - 14s 6ms/step - loss: 1.8400 - categorical_accuracy: 0.4024 - val_loss: 1.3115 - val_categorical_accuracy: 0.5587 - lr: 0.1000\n",
            "Epoch 2/200\n",
            "2000/2000 [==============================] - 11s 6ms/step - loss: 1.1581 - categorical_accuracy: 0.6007 - val_loss: 1.0676 - val_categorical_accuracy: 0.6264 - lr: 0.1000\n",
            "Epoch 3/200\n",
            "2000/2000 [==============================] - 7s 3ms/step - loss: 0.9611 - categorical_accuracy: 0.6591 - val_loss: 0.9912 - val_categorical_accuracy: 0.6474 - lr: 0.1000\n",
            "Epoch 4/200\n",
            "2000/2000 [==============================] - 7s 3ms/step - loss: 0.8497 - categorical_accuracy: 0.6947 - val_loss: 0.7535 - val_categorical_accuracy: 0.7361 - lr: 0.1000\n",
            "Epoch 5/200\n",
            "2000/2000 [==============================] - 6s 3ms/step - loss: 0.7856 - categorical_accuracy: 0.7159 - val_loss: 0.7875 - val_categorical_accuracy: 0.6941 - lr: 0.1000\n",
            "Epoch 6/200\n",
            "2000/2000 [==============================] - 6s 3ms/step - loss: 0.7333 - categorical_accuracy: 0.7300 - val_loss: 0.7619 - val_categorical_accuracy: 0.7055 - lr: 0.1000\n",
            "Epoch 7/200\n",
            "2000/2000 [==============================] - 6s 3ms/step - loss: 0.6852 - categorical_accuracy: 0.7475 - val_loss: 0.7852 - val_categorical_accuracy: 0.6850 - lr: 0.1000\n",
            "Epoch 8/200\n",
            "2000/2000 [==============================] - 6s 3ms/step - loss: 0.6680 - categorical_accuracy: 0.7519 - val_loss: 0.6714 - val_categorical_accuracy: 0.7362 - lr: 0.1000\n",
            "Epoch 9/200\n",
            "2000/2000 [==============================] - 6s 3ms/step - loss: 0.6496 - categorical_accuracy: 0.7550 - val_loss: 0.6005 - val_categorical_accuracy: 0.7814 - lr: 0.1000\n",
            "Epoch 10/200\n",
            "2000/2000 [==============================] - 6s 3ms/step - loss: 0.6266 - categorical_accuracy: 0.7629 - val_loss: 0.5927 - val_categorical_accuracy: 0.7795 - lr: 0.1000\n",
            "Epoch 11/200\n",
            "2000/2000 [==============================] - 6s 3ms/step - loss: 0.6048 - categorical_accuracy: 0.7722 - val_loss: 0.6193 - val_categorical_accuracy: 0.7619 - lr: 0.1000\n",
            "Epoch 12/200\n",
            "2000/2000 [==============================] - 6s 3ms/step - loss: 0.5986 - categorical_accuracy: 0.7720 - val_loss: 0.5668 - val_categorical_accuracy: 0.7917 - lr: 0.1000\n",
            "Epoch 13/200\n",
            "2000/2000 [==============================] - 7s 4ms/step - loss: 0.5790 - categorical_accuracy: 0.7775 - val_loss: 0.5057 - val_categorical_accuracy: 0.8165 - lr: 0.1000\n",
            "Epoch 14/200\n",
            "2000/2000 [==============================] - 6s 3ms/step - loss: 0.5710 - categorical_accuracy: 0.7806 - val_loss: 0.7461 - val_categorical_accuracy: 0.6950 - lr: 0.1000\n",
            "Epoch 15/200\n",
            "2000/2000 [==============================] - 6s 3ms/step - loss: 0.5614 - categorical_accuracy: 0.7838 - val_loss: 0.4843 - val_categorical_accuracy: 0.8243 - lr: 0.1000\n",
            "Epoch 16/200\n",
            "2000/2000 [==============================] - 6s 3ms/step - loss: 0.5522 - categorical_accuracy: 0.7857 - val_loss: 0.5366 - val_categorical_accuracy: 0.7870 - lr: 0.1000\n",
            "Epoch 17/200\n",
            "2000/2000 [==============================] - 6s 3ms/step - loss: 0.5369 - categorical_accuracy: 0.7928 - val_loss: 0.5824 - val_categorical_accuracy: 0.7595 - lr: 0.1000\n",
            "Epoch 18/200\n",
            "2000/2000 [==============================] - 6s 3ms/step - loss: 0.5291 - categorical_accuracy: 0.7946 - val_loss: 0.5265 - val_categorical_accuracy: 0.7902 - lr: 0.1000\n",
            "Epoch 19/200\n",
            "2000/2000 [==============================] - 8s 4ms/step - loss: 0.5333 - categorical_accuracy: 0.7924 - val_loss: 0.5924 - val_categorical_accuracy: 0.7716 - lr: 0.1000\n",
            "Epoch 20/200\n",
            "2000/2000 [==============================] - 7s 3ms/step - loss: 0.5215 - categorical_accuracy: 0.7964 - val_loss: 0.4809 - val_categorical_accuracy: 0.8158 - lr: 0.1000\n",
            "Epoch 21/200\n",
            "2000/2000 [==============================] - 7s 3ms/step - loss: 0.5172 - categorical_accuracy: 0.7990 - val_loss: 0.4742 - val_categorical_accuracy: 0.8138 - lr: 0.1000\n",
            "Epoch 22/200\n",
            "2000/2000 [==============================] - 6s 3ms/step - loss: 0.5096 - categorical_accuracy: 0.8007 - val_loss: 0.4361 - val_categorical_accuracy: 0.8364 - lr: 0.1000\n",
            "Epoch 23/200\n",
            "2000/2000 [==============================] - 7s 3ms/step - loss: 0.5033 - categorical_accuracy: 0.8033 - val_loss: 0.5071 - val_categorical_accuracy: 0.8189 - lr: 0.1000\n",
            "Epoch 24/200\n",
            "2000/2000 [==============================] - 6s 3ms/step - loss: 0.4988 - categorical_accuracy: 0.8041 - val_loss: 0.4653 - val_categorical_accuracy: 0.8140 - lr: 0.1000\n",
            "Epoch 25/200\n",
            "2000/2000 [==============================] - 6s 3ms/step - loss: 0.4993 - categorical_accuracy: 0.8050 - val_loss: 0.4845 - val_categorical_accuracy: 0.8112 - lr: 0.1000\n",
            "Epoch 26/200\n",
            "2000/2000 [==============================] - 6s 3ms/step - loss: 0.4827 - categorical_accuracy: 0.8121 - val_loss: 0.5287 - val_categorical_accuracy: 0.7879 - lr: 0.1000\n",
            "Epoch 27/200\n",
            "2000/2000 [==============================] - 6s 3ms/step - loss: 0.4893 - categorical_accuracy: 0.8076 - val_loss: 0.4525 - val_categorical_accuracy: 0.8248 - lr: 0.1000\n",
            "Epoch 28/200\n",
            "2000/2000 [==============================] - 6s 3ms/step - loss: 0.3142 - categorical_accuracy: 0.9258 - val_loss: 0.3201 - val_categorical_accuracy: 0.9175 - lr: 0.0100\n",
            "Epoch 29/200\n",
            "2000/2000 [==============================] - 6s 3ms/step - loss: 0.3128 - categorical_accuracy: 0.9218 - val_loss: 0.3089 - val_categorical_accuracy: 0.9207 - lr: 0.0100\n",
            "Epoch 30/200\n",
            "2000/2000 [==============================] - 6s 3ms/step - loss: 0.3084 - categorical_accuracy: 0.9210 - val_loss: 0.2988 - val_categorical_accuracy: 0.9307 - lr: 0.0100\n",
            "Epoch 31/200\n",
            "2000/2000 [==============================] - 6s 3ms/step - loss: 0.3038 - categorical_accuracy: 0.9215 - val_loss: 0.3237 - val_categorical_accuracy: 0.8974 - lr: 0.0100\n",
            "Epoch 32/200\n",
            "2000/2000 [==============================] - 6s 3ms/step - loss: 0.3025 - categorical_accuracy: 0.9207 - val_loss: 0.2905 - val_categorical_accuracy: 0.9318 - lr: 0.0100\n",
            "Epoch 33/200\n",
            "2000/2000 [==============================] - 6s 3ms/step - loss: 0.2953 - categorical_accuracy: 0.9234 - val_loss: 0.2940 - val_categorical_accuracy: 0.9241 - lr: 0.0100\n",
            "Epoch 34/200\n",
            "2000/2000 [==============================] - 6s 3ms/step - loss: 0.2941 - categorical_accuracy: 0.9220 - val_loss: 0.2921 - val_categorical_accuracy: 0.9277 - lr: 0.0100\n",
            "Epoch 35/200\n",
            "2000/2000 [==============================] - 7s 3ms/step - loss: 0.2919 - categorical_accuracy: 0.9211 - val_loss: 0.2793 - val_categorical_accuracy: 0.9346 - lr: 0.0100\n",
            "Epoch 36/200\n",
            "2000/2000 [==============================] - 8s 4ms/step - loss: 0.2873 - categorical_accuracy: 0.9229 - val_loss: 0.2818 - val_categorical_accuracy: 0.9330 - lr: 0.0100\n",
            "Epoch 37/200\n",
            "2000/2000 [==============================] - 7s 3ms/step - loss: 0.2867 - categorical_accuracy: 0.9209 - val_loss: 0.2917 - val_categorical_accuracy: 0.9110 - lr: 0.0100\n",
            "Epoch 38/200\n",
            "2000/2000 [==============================] - 6s 3ms/step - loss: 0.2835 - categorical_accuracy: 0.9219 - val_loss: 0.2905 - val_categorical_accuracy: 0.9171 - lr: 0.0100\n",
            "Epoch 39/200\n",
            "2000/2000 [==============================] - 7s 3ms/step - loss: 0.2829 - categorical_accuracy: 0.9217 - val_loss: 0.2773 - val_categorical_accuracy: 0.9233 - lr: 0.0100\n",
            "Epoch 40/200\n",
            "2000/2000 [==============================] - 6s 3ms/step - loss: 0.2796 - categorical_accuracy: 0.9225 - val_loss: 0.2728 - val_categorical_accuracy: 0.9266 - lr: 0.0100\n",
            "Epoch 41/200\n",
            "2000/2000 [==============================] - 6s 3ms/step - loss: 0.2789 - categorical_accuracy: 0.9218 - val_loss: 0.2697 - val_categorical_accuracy: 0.9321 - lr: 0.0100\n",
            "Epoch 42/200\n",
            "2000/2000 [==============================] - 6s 3ms/step - loss: 0.2771 - categorical_accuracy: 0.9212 - val_loss: 0.2643 - val_categorical_accuracy: 0.9303 - lr: 0.0100\n",
            "Epoch 43/200\n",
            "2000/2000 [==============================] - 6s 3ms/step - loss: 0.2734 - categorical_accuracy: 0.9239 - val_loss: 0.2697 - val_categorical_accuracy: 0.9267 - lr: 0.0100\n",
            "Epoch 44/200\n",
            "2000/2000 [==============================] - 6s 3ms/step - loss: 0.2728 - categorical_accuracy: 0.9223 - val_loss: 0.2790 - val_categorical_accuracy: 0.9130 - lr: 0.0100\n",
            "Epoch 45/200\n",
            "2000/2000 [==============================] - 6s 3ms/step - loss: 0.2715 - categorical_accuracy: 0.9221 - val_loss: 0.2662 - val_categorical_accuracy: 0.9268 - lr: 0.0100\n",
            "Epoch 46/200\n",
            "2000/2000 [==============================] - 6s 3ms/step - loss: 0.2689 - categorical_accuracy: 0.9234 - val_loss: 0.2754 - val_categorical_accuracy: 0.9162 - lr: 0.0100\n",
            "Epoch 47/200\n",
            "2000/2000 [==============================] - 6s 3ms/step - loss: 0.2679 - categorical_accuracy: 0.9237 - val_loss: 0.2630 - val_categorical_accuracy: 0.9301 - lr: 0.0100\n",
            "Epoch 48/200\n",
            "2000/2000 [==============================] - 6s 3ms/step - loss: 0.2662 - categorical_accuracy: 0.9240 - val_loss: 0.2684 - val_categorical_accuracy: 0.9200 - lr: 0.0100\n",
            "Epoch 49/200\n",
            "2000/2000 [==============================] - 6s 3ms/step - loss: 0.2661 - categorical_accuracy: 0.9221 - val_loss: 0.2603 - val_categorical_accuracy: 0.9320 - lr: 0.0100\n",
            "Epoch 50/200\n",
            "2000/2000 [==============================] - 6s 3ms/step - loss: 0.2653 - categorical_accuracy: 0.9220 - val_loss: 0.2572 - val_categorical_accuracy: 0.9298 - lr: 0.0100\n",
            "Epoch 51/200\n",
            "2000/2000 [==============================] - 7s 3ms/step - loss: 0.2644 - categorical_accuracy: 0.9227 - val_loss: 0.2598 - val_categorical_accuracy: 0.9245 - lr: 0.0100\n",
            "Epoch 52/200\n",
            "2000/2000 [==============================] - 6s 3ms/step - loss: 0.2637 - categorical_accuracy: 0.9224 - val_loss: 0.2580 - val_categorical_accuracy: 0.9259 - lr: 0.0100\n",
            "Epoch 53/200\n",
            "2000/2000 [==============================] - 7s 3ms/step - loss: 0.2617 - categorical_accuracy: 0.9226 - val_loss: 0.2762 - val_categorical_accuracy: 0.9114 - lr: 0.0100\n",
            "Epoch 54/200\n",
            "2000/2000 [==============================] - 6s 3ms/step - loss: 0.2596 - categorical_accuracy: 0.9233 - val_loss: 0.2526 - val_categorical_accuracy: 0.9275 - lr: 0.0100\n",
            "Epoch 55/200\n",
            "2000/2000 [==============================] - 7s 3ms/step - loss: 0.2597 - categorical_accuracy: 0.9235 - val_loss: 0.2570 - val_categorical_accuracy: 0.9288 - lr: 0.0100\n",
            "Epoch 56/200\n",
            "2000/2000 [==============================] - 6s 3ms/step - loss: 0.2571 - categorical_accuracy: 0.9241 - val_loss: 0.2531 - val_categorical_accuracy: 0.9286 - lr: 0.0100\n",
            "Epoch 57/200\n",
            "2000/2000 [==============================] - 7s 3ms/step - loss: 0.2568 - categorical_accuracy: 0.9237 - val_loss: 0.2514 - val_categorical_accuracy: 0.9241 - lr: 0.0100\n",
            "Epoch 58/200\n",
            "2000/2000 [==============================] - 6s 3ms/step - loss: 0.2578 - categorical_accuracy: 0.9223 - val_loss: 0.2502 - val_categorical_accuracy: 0.9274 - lr: 0.0100\n",
            "Epoch 59/200\n",
            "2000/2000 [==============================] - 8s 4ms/step - loss: 0.2551 - categorical_accuracy: 0.9241 - val_loss: 0.2690 - val_categorical_accuracy: 0.9098 - lr: 0.0100\n",
            "Epoch 60/200\n",
            "2000/2000 [==============================] - 6s 3ms/step - loss: 0.2544 - categorical_accuracy: 0.9244 - val_loss: 0.2756 - val_categorical_accuracy: 0.9050 - lr: 0.0100\n",
            "Epoch 61/200\n",
            "2000/2000 [==============================] - 6s 3ms/step - loss: 0.2551 - categorical_accuracy: 0.9226 - val_loss: 0.2571 - val_categorical_accuracy: 0.9224 - lr: 0.0100\n",
            "Epoch 62/200\n",
            "2000/2000 [==============================] - 6s 3ms/step - loss: 0.2523 - categorical_accuracy: 0.9246 - val_loss: 0.2664 - val_categorical_accuracy: 0.9138 - lr: 0.0100\n",
            "Epoch 63/200\n",
            "2000/2000 [==============================] - 6s 3ms/step - loss: 0.2510 - categorical_accuracy: 0.9256 - val_loss: 0.2612 - val_categorical_accuracy: 0.9141 - lr: 0.0100\n",
            "Epoch 64/200\n",
            "2000/2000 [==============================] - 6s 3ms/step - loss: 0.2297 - categorical_accuracy: 0.9479 - val_loss: 0.2340 - val_categorical_accuracy: 0.9475 - lr: 1.0000e-03\n",
            "Epoch 65/200\n",
            "2000/2000 [==============================] - 6s 3ms/step - loss: 0.2304 - categorical_accuracy: 0.9479 - val_loss: 0.2292 - val_categorical_accuracy: 0.9481 - lr: 1.0000e-03\n",
            "Epoch 66/200\n",
            "2000/2000 [==============================] - 6s 3ms/step - loss: 0.2305 - categorical_accuracy: 0.9479 - val_loss: 0.2252 - val_categorical_accuracy: 0.9519 - lr: 1.0000e-03\n",
            "Epoch 67/200\n",
            "2000/2000 [==============================] - 6s 3ms/step - loss: 0.2290 - categorical_accuracy: 0.9484 - val_loss: 0.2264 - val_categorical_accuracy: 0.9502 - lr: 1.0000e-03\n",
            "Epoch 68/200\n",
            "2000/2000 [==============================] - 6s 3ms/step - loss: 0.2288 - categorical_accuracy: 0.9483 - val_loss: 0.2310 - val_categorical_accuracy: 0.9466 - lr: 1.0000e-03\n",
            "Epoch 69/200\n",
            "2000/2000 [==============================] - 6s 3ms/step - loss: 0.2283 - categorical_accuracy: 0.9487 - val_loss: 0.2260 - val_categorical_accuracy: 0.9503 - lr: 1.0000e-03\n",
            "Epoch 70/200\n",
            "2000/2000 [==============================] - 6s 3ms/step - loss: 0.2293 - categorical_accuracy: 0.9480 - val_loss: 0.2268 - val_categorical_accuracy: 0.9515 - lr: 1.0000e-03\n",
            "Epoch 71/200\n",
            "2000/2000 [==============================] - 6s 3ms/step - loss: 0.2284 - categorical_accuracy: 0.9494 - val_loss: 0.2350 - val_categorical_accuracy: 0.9419 - lr: 1.0000e-03\n",
            "Epoch 72/200\n",
            "2000/2000 [==============================] - 6s 3ms/step - loss: 0.2271 - categorical_accuracy: 0.9518 - val_loss: 0.2218 - val_categorical_accuracy: 0.9545 - lr: 1.0000e-04\n",
            "Epoch 73/200\n",
            "2000/2000 [==============================] - 7s 3ms/step - loss: 0.2265 - categorical_accuracy: 0.9523 - val_loss: 0.2246 - val_categorical_accuracy: 0.9528 - lr: 1.0000e-04\n",
            "Epoch 74/200\n",
            "2000/2000 [==============================] - 6s 3ms/step - loss: 0.2260 - categorical_accuracy: 0.9524 - val_loss: 0.2267 - val_categorical_accuracy: 0.9519 - lr: 1.0000e-04\n",
            "Epoch 75/200\n",
            "2000/2000 [==============================] - 6s 3ms/step - loss: 0.2272 - categorical_accuracy: 0.9522 - val_loss: 0.2249 - val_categorical_accuracy: 0.9511 - lr: 1.0000e-04\n",
            "Epoch 76/200\n",
            "2000/2000 [==============================] - 6s 3ms/step - loss: 0.2262 - categorical_accuracy: 0.9517 - val_loss: 0.2286 - val_categorical_accuracy: 0.9501 - lr: 1.0000e-04\n",
            "Epoch 77/200\n",
            "2000/2000 [==============================] - 6s 3ms/step - loss: 0.2267 - categorical_accuracy: 0.9515 - val_loss: 0.2274 - val_categorical_accuracy: 0.9513 - lr: 1.0000e-04\n",
            "Epoch 78/200\n",
            "2000/2000 [==============================] - 7s 3ms/step - loss: 0.2259 - categorical_accuracy: 0.9526 - val_loss: 0.2240 - val_categorical_accuracy: 0.9529 - lr: 1.0000e-05\n",
            "Epoch 79/200\n",
            "2000/2000 [==============================] - 6s 3ms/step - loss: 0.2258 - categorical_accuracy: 0.9526 - val_loss: 0.2258 - val_categorical_accuracy: 0.9516 - lr: 1.0000e-05\n",
            "Epoch 80/200\n",
            "2000/2000 [==============================] - 6s 3ms/step - loss: 0.2259 - categorical_accuracy: 0.9524 - val_loss: 0.2276 - val_categorical_accuracy: 0.9517 - lr: 1.0000e-05\n",
            "Epoch 81/200\n",
            "2000/2000 [==============================] - 6s 3ms/step - loss: 0.2257 - categorical_accuracy: 0.9527 - val_loss: 0.2241 - val_categorical_accuracy: 0.9536 - lr: 1.0000e-05\n",
            "Epoch 82/200\n",
            "2000/2000 [==============================] - 7s 3ms/step - loss: 0.2256 - categorical_accuracy: 0.9529 - val_loss: 0.2272 - val_categorical_accuracy: 0.9506 - lr: 1.0000e-05\n",
            "Epoch 83/200\n",
            "2000/2000 [==============================] - 8s 4ms/step - loss: 0.2262 - categorical_accuracy: 0.9524 - val_loss: 0.2274 - val_categorical_accuracy: 0.9532 - lr: 1.0000e-06\n",
            "Epoch 84/200\n",
            "2000/2000 [==============================] - 7s 3ms/step - loss: 0.2261 - categorical_accuracy: 0.9522 - val_loss: 0.2253 - val_categorical_accuracy: 0.9512 - lr: 1.0000e-06\n",
            "Epoch 85/200\n",
            "2000/2000 [==============================] - 6s 3ms/step - loss: 0.2266 - categorical_accuracy: 0.9522 - val_loss: 0.2236 - val_categorical_accuracy: 0.9537 - lr: 1.0000e-06\n",
            "Epoch 86/200\n",
            "2000/2000 [==============================] - 7s 3ms/step - loss: 0.2256 - categorical_accuracy: 0.9524 - val_loss: 0.2262 - val_categorical_accuracy: 0.9541 - lr: 1.0000e-06\n",
            "Epoch 87/200\n",
            "2000/2000 [==============================] - 6s 3ms/step - loss: 0.2260 - categorical_accuracy: 0.9532 - val_loss: 0.2236 - val_categorical_accuracy: 0.9538 - lr: 1.0000e-06\n",
            "Epoch 88/200\n",
            "2000/2000 [==============================] - 7s 3ms/step - loss: 0.2257 - categorical_accuracy: 0.9521 - val_loss: 0.2263 - val_categorical_accuracy: 0.9544 - lr: 1.0000e-06\n",
            "Epoch 89/200\n",
            "2000/2000 [==============================] - 6s 3ms/step - loss: 0.2263 - categorical_accuracy: 0.9520 - val_loss: 0.2285 - val_categorical_accuracy: 0.9529 - lr: 1.0000e-06\n",
            "Epoch 90/200\n",
            "2000/2000 [==============================] - 6s 3ms/step - loss: 0.2264 - categorical_accuracy: 0.9526 - val_loss: 0.2241 - val_categorical_accuracy: 0.9541 - lr: 1.0000e-06\n",
            "Epoch 91/200\n",
            "2000/2000 [==============================] - 6s 3ms/step - loss: 0.2264 - categorical_accuracy: 0.9524 - val_loss: 0.2276 - val_categorical_accuracy: 0.9504 - lr: 1.0000e-06\n",
            "Epoch 92/200\n",
            "2000/2000 [==============================] - 7s 3ms/step - loss: 0.2260 - categorical_accuracy: 0.9528 - val_loss: 0.2248 - val_categorical_accuracy: 0.9509 - lr: 1.0000e-06\n",
            "Epoch 93/200\n",
            "2000/2000 [==============================] - 7s 3ms/step - loss: 0.2260 - categorical_accuracy: 0.9519 - val_loss: 0.2258 - val_categorical_accuracy: 0.9513 - lr: 1.0000e-06\n",
            "Epoch 94/200\n",
            "2000/2000 [==============================] - 6s 3ms/step - loss: 0.2253 - categorical_accuracy: 0.9533 - val_loss: 0.2277 - val_categorical_accuracy: 0.9521 - lr: 1.0000e-06\n",
            "Epoch 95/200\n",
            "2000/2000 [==============================] - 6s 3ms/step - loss: 0.2249 - categorical_accuracy: 0.9530 - val_loss: 0.2236 - val_categorical_accuracy: 0.9535 - lr: 1.0000e-06\n",
            "Epoch 96/200\n",
            "2000/2000 [==============================] - 6s 3ms/step - loss: 0.2252 - categorical_accuracy: 0.9527 - val_loss: 0.2282 - val_categorical_accuracy: 0.9509 - lr: 1.0000e-06\n",
            "Epoch 97/200\n",
            "2000/2000 [==============================] - 6s 3ms/step - loss: 0.2256 - categorical_accuracy: 0.9528 - val_loss: 0.2301 - val_categorical_accuracy: 0.9505 - lr: 1.0000e-06\n",
            "Epoch 98/200\n",
            "2000/2000 [==============================] - 6s 3ms/step - loss: 0.2247 - categorical_accuracy: 0.9536 - val_loss: 0.2242 - val_categorical_accuracy: 0.9517 - lr: 1.0000e-06\n",
            "Epoch 99/200\n",
            "2000/2000 [==============================] - 6s 3ms/step - loss: 0.2255 - categorical_accuracy: 0.9521 - val_loss: 0.2257 - val_categorical_accuracy: 0.9520 - lr: 1.0000e-06\n",
            "Epoch 100/200\n",
            "2000/2000 [==============================] - 7s 3ms/step - loss: 0.2272 - categorical_accuracy: 0.9516 - val_loss: 0.2251 - val_categorical_accuracy: 0.9540 - lr: 1.0000e-06\n",
            "Epoch 101/200\n",
            "2000/2000 [==============================] - 7s 3ms/step - loss: 0.2255 - categorical_accuracy: 0.9525 - val_loss: 0.2248 - val_categorical_accuracy: 0.9525 - lr: 1.0000e-06\n",
            "Epoch 102/200\n",
            "2000/2000 [==============================] - 6s 3ms/step - loss: 0.2265 - categorical_accuracy: 0.9523 - val_loss: 0.2240 - val_categorical_accuracy: 0.9537 - lr: 1.0000e-06\n",
            "Epoch 103/200\n",
            "2000/2000 [==============================] - 6s 3ms/step - loss: 0.2265 - categorical_accuracy: 0.9523 - val_loss: 0.2262 - val_categorical_accuracy: 0.9530 - lr: 1.0000e-06\n",
            "Epoch 104/200\n",
            "2000/2000 [==============================] - 6s 3ms/step - loss: 0.2255 - categorical_accuracy: 0.9530 - val_loss: 0.2274 - val_categorical_accuracy: 0.9522 - lr: 1.0000e-06\n"
          ]
        }
      ],
      "source": [
        "# Training record\n",
        "################################################################################\n",
        "\n",
        "history = biDense_model.fit(polar_generator(batchsize=batchsize, grid=(10,10), flat=True),\n",
        "                              validation_data=polar_generator(batchsize=batchsize, grid=(10,10), flat=True), \n",
        "                              steps_per_epoch=steps_per_epoch, \n",
        "                              validation_steps=validation_steps, \n",
        "                              epochs=epochs,\n",
        "                              shuffle=True, \n",
        "                              callbacks =[reduce_lr, earlystopping])"
      ]
    },
    {
      "cell_type": "markdown",
      "metadata": {
        "id": "gpnnyCR5jqZw"
      },
      "source": [
        "#### History about accuracy on validation test, and plots"
      ]
    },
    {
      "cell_type": "code",
      "execution_count": 11,
      "metadata": {
        "colab": {
          "base_uri": "https://localhost:8080/"
        },
        "id": "l7Ae-lRYuXOE",
        "outputId": "e82d7086-0187-4605-8a00-39b74f14a559"
      },
      "outputs": [
        {
          "data": {
            "text/plain": [
              "0.9545312523841858"
            ]
          },
          "execution_count": 11,
          "metadata": {},
          "output_type": "execute_result"
        }
      ],
      "source": [
        "np.max(history.history[\"val_categorical_accuracy\"])"
      ]
    },
    {
      "cell_type": "code",
      "execution_count": 12,
      "metadata": {
        "colab": {
          "base_uri": "https://localhost:8080/"
        },
        "id": "BChrlHhEjyRu",
        "outputId": "7303ee82-dc89-4df9-91b9-ab7146ffd6cb"
      },
      "outputs": [
        {
          "data": {
            "text/plain": [
              "[0.5586718916893005,\n",
              " 0.6264452934265137,\n",
              " 0.6474218964576721,\n",
              " 0.736132800579071,\n",
              " 0.6941015720367432,\n",
              " 0.7054687738418579,\n",
              " 0.6849609613418579,\n",
              " 0.7362499833106995,\n",
              " 0.7813671827316284,\n",
              " 0.7794530987739563,\n",
              " 0.761914074420929,\n",
              " 0.7916796803474426,\n",
              " 0.8164843916893005,\n",
              " 0.6950390338897705,\n",
              " 0.8243359327316284,\n",
              " 0.7869921922683716,\n",
              " 0.7594531178474426,\n",
              " 0.7901562452316284,\n",
              " 0.7716015577316284,\n",
              " 0.8157812356948853,\n",
              " 0.8137890696525574,\n",
              " 0.8363671898841858,\n",
              " 0.8189062476158142,\n",
              " 0.8140234351158142,\n",
              " 0.8112499713897705,\n",
              " 0.787890613079071,\n",
              " 0.8248046636581421,\n",
              " 0.9175390601158142,\n",
              " 0.9207422137260437,\n",
              " 0.9306640625,\n",
              " 0.8973827958106995,\n",
              " 0.9317578077316284,\n",
              " 0.9240624904632568,\n",
              " 0.927734375,\n",
              " 0.9345703125,\n",
              " 0.9329687356948853,\n",
              " 0.9110156297683716,\n",
              " 0.9171484112739563,\n",
              " 0.9232812523841858,\n",
              " 0.9266015887260437,\n",
              " 0.9320703148841858,\n",
              " 0.9303125143051147,\n",
              " 0.9267187714576721,\n",
              " 0.9130077958106995,\n",
              " 0.9267968535423279,\n",
              " 0.9161718487739563,\n",
              " 0.9300781488418579,\n",
              " 0.9200390577316284,\n",
              " 0.9319921731948853,\n",
              " 0.9298437237739563,\n",
              " 0.9245312213897705,\n",
              " 0.9258593916893005,\n",
              " 0.9114062786102295,\n",
              " 0.9275000095367432,\n",
              " 0.9287890791893005,\n",
              " 0.9285547137260437,\n",
              " 0.9240624904632568,\n",
              " 0.9273828268051147,\n",
              " 0.9098437428474426,\n",
              " 0.9049999713897705,\n",
              " 0.9223828315734863,\n",
              " 0.9137890338897705,\n",
              " 0.9141015410423279,\n",
              " 0.9474999904632568,\n",
              " 0.9481250047683716,\n",
              " 0.9518749713897705,\n",
              " 0.9501953125,\n",
              " 0.9466015696525574,\n",
              " 0.9502734541893005,\n",
              " 0.9514843821525574,\n",
              " 0.9418749809265137,\n",
              " 0.9545312523841858,\n",
              " 0.9527734518051147,\n",
              " 0.9518749713897705,\n",
              " 0.9510546922683716,\n",
              " 0.9500781297683716,\n",
              " 0.9512500166893005,\n",
              " 0.9528515338897705,\n",
              " 0.9515625238418579,\n",
              " 0.9516797065734863,\n",
              " 0.9535937309265137,\n",
              " 0.9505859613418579,\n",
              " 0.9531640410423279,\n",
              " 0.9512109160423279,\n",
              " 0.9537109136581421,\n",
              " 0.9540625214576721,\n",
              " 0.9537500143051147,\n",
              " 0.9543750286102295,\n",
              " 0.9528515338897705,\n",
              " 0.9541015625,\n",
              " 0.950390636920929,\n",
              " 0.9508593678474426,\n",
              " 0.9512890577316284,\n",
              " 0.9521484375,\n",
              " 0.9535156488418579,\n",
              " 0.9508593678474426,\n",
              " 0.9504687786102295,\n",
              " 0.9517187476158142,\n",
              " 0.9520312547683716,\n",
              " 0.9539843797683716,\n",
              " 0.9524609446525574,\n",
              " 0.9537109136581421,\n",
              " 0.9530078172683716,\n",
              " 0.9521874785423279]"
            ]
          },
          "execution_count": 12,
          "metadata": {},
          "output_type": "execute_result"
        }
      ],
      "source": [
        "history.history[\"val_categorical_accuracy\"]"
      ]
    },
    {
      "cell_type": "code",
      "execution_count": 13,
      "metadata": {
        "colab": {
          "base_uri": "https://localhost:8080/",
          "height": 611
        },
        "id": "XFcNTvWpj3mG",
        "outputId": "3d1dedbc-eca3-452b-8a3a-fd45fab3a8b1"
      },
      "outputs": [
        {
          "name": "stdout",
          "output_type": "stream",
          "text": [
            "dict_keys(['loss', 'categorical_accuracy', 'val_loss', 'val_categorical_accuracy', 'lr'])\n"
          ]
        },
        {
          "data": {
            "image/png": "[encoded data removed]",
            "text/plain": [
              "<Figure size 432x288 with 1 Axes>"
            ]
          },
          "metadata": {
            "needs_background": "light"
          },
          "output_type": "display_data"
        },
        {
          "data": {
            "image/png": "[encoded data removed]",
            "text/plain": [
              "<Figure size 432x288 with 1 Axes>"
            ]
          },
          "metadata": {
            "needs_background": "light"
          },
          "output_type": "display_data"
        }
      ],
      "source": [
        "plot_history(history)"
      ]
    },
    {
      "cell_type": "markdown",
      "metadata": {
        "id": "2QARjYmpj6NB"
      },
      "source": [
        "## **Section 4**: Evaluation of the model"
      ]
    },
    {
      "attachments": {},
      "cell_type": "markdown",
      "metadata": {
        "id": "kHUkvnkrkLur"
      },
      "source": [
        "The evaluation has been done on: **200000** samples"
      ]
    },
    {
      "cell_type": "code",
      "execution_count": 16,
      "metadata": {
        "colab": {
          "base_uri": "https://localhost:8080/"
        },
        "id": "-AuamcEOkH4l",
        "outputId": "0fe1cf00-c925-472b-ee12-41aa99aaa67f"
      },
      "outputs": [
        {
          "name": "stdout",
          "output_type": "stream",
          "text": [
            "6250/6250 [==============================] - 9s 1ms/step\n",
            "Over 200000 predictions done by the model,\n",
            "The number of correct guesses is 191183.\n",
            "\n",
            "\n",
            "Thus resulting in a 95.59% of accuracy.\n",
            "\n",
            "\n",
            "The model <keras.engine.functional.Functional object at 0x7f7f76db5610> satisfies the basic requirements: True\n"
          ]
        },
        {
          "data": {
            "text/plain": [
              "True"
            ]
          },
          "execution_count": 16,
          "metadata": {},
          "output_type": "execute_result"
        }
      ],
      "source": [
        "compute_accuracy(biDense_model, polar_generator, 200000)"
      ]
    }
  ],
  "metadata": {
    "accelerator": "GPU",
    "colab": {
      "provenance": []
    },
    "gpuClass": "standard",
    "kernelspec": {
      "display_name": "Python 3",
      "name": "python3"
    },
    "language_info": {
      "name": "python"
    }
  },
  "nbformat": 4,
  "nbformat_minor": 0
}
