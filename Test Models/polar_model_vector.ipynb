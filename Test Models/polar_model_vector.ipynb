{
 "cells": [
  {
   "cell_type": "code",
   "execution_count": 1,
   "metadata": {},
   "outputs": [],
   "source": [
    "import numpy as np\n",
    "import tensorflow as tf\n",
    "from tensorflow.keras.layers import Input, Dense, Reshape, concatenate\n",
    "from tensorflow.keras.models import Model"
   ]
  },
  {
   "attachments": {},
   "cell_type": "markdown",
   "metadata": {},
   "source": [
    "Function to plot history recordings data."
   ]
  },
  {
   "cell_type": "code",
   "execution_count": 2,
   "metadata": {},
   "outputs": [],
   "source": [
    "import matplotlib.pyplot as plt\n",
    "\n",
    "def plot_history(history):\n",
    "    # list all data in history\n",
    "    print(history.history.keys())\n",
    "    # summarize history for accuracy\n",
    "    plt.plot(history.history['categorical_accuracy'])\n",
    "    plt.plot(history.history['val_categorical_accuracy'])\n",
    "    plt.title('model accuracy')\n",
    "    plt.ylabel('accuracy')\n",
    "    plt.xlabel('epoch')\n",
    "    plt.legend(['train', 'validation'], loc='upper left')\n",
    "    plt.show()\n",
    "    # summarize history for loss\n",
    "    plt.plot(history.history['loss'])\n",
    "    plt.plot(history.history['val_loss'])\n",
    "    plt.title('model loss')\n",
    "    plt.ylabel('loss')\n",
    "    plt.xlabel('epoch')\n",
    "    plt.legend(['train', 'validation'], loc='upper left')\n",
    "    plt.show()"
   ]
  },
  {
   "attachments": {},
   "cell_type": "markdown",
   "metadata": {},
   "source": [
    "Generator."
   ]
  },
  {
   "cell_type": "code",
   "execution_count": 3,
   "metadata": {},
   "outputs": [],
   "source": [
    "def polar_generator(batchsize,grid=(10,10),noise=.002,flat=True):\n",
    "  while True:\n",
    "    x = np.random.rand(batchsize)\n",
    "    y = np.random.rand(batchsize)\n",
    "    out = np.zeros((batchsize,grid[0],grid[1]))\n",
    "    xc = (x*grid[0]).astype(int)\n",
    "    yc = (y*grid[1]).astype(int)\n",
    "    for b in range(batchsize):\n",
    "      out[b,xc[b],yc[b]] = 1\n",
    "    #compute rho and theta and add some noise\n",
    "    rho = np.sqrt(x**2+y**2) + np.random.normal(scale=noise)\n",
    "    theta = np.arctan(y/np.maximum(x,.00001)) + np.random.normal(scale=noise)\n",
    "    if flat:\n",
    "      out = np.reshape(out,(batchsize,grid[0]*grid[1]))\n",
    "    yield ((theta,rho),out)"
   ]
  },
  {
   "cell_type": "code",
   "execution_count": 4,
   "metadata": {},
   "outputs": [
    {
     "name": "stdout",
     "output_type": "stream",
     "text": [
      "Found GPU at: /device:GPU:0\n"
     ]
    },
    {
     "name": "stderr",
     "output_type": "stream",
     "text": [
      "2023-01-11 17:34:10.689683: I tensorflow/core/common_runtime/pluggable_device/pluggable_device_factory.cc:305] Could not identify NUMA node of platform GPU ID 0, defaulting to 0. Your kernel may not have been built with NUMA support.\n",
      "2023-01-11 17:34:10.689802: I tensorflow/core/common_runtime/pluggable_device/pluggable_device_factory.cc:271] Created TensorFlow device (/device:GPU:0 with 0 MB memory) -> physical PluggableDevice (device: 0, name: METAL, pci bus id: <undefined>)\n"
     ]
    },
    {
     "name": "stdout",
     "output_type": "stream",
     "text": [
      "Metal device set to: Apple M1 Pro\n",
      "\n",
      "systemMemory: 16.00 GB\n",
      "maxCacheSize: 5.33 GB\n",
      "\n"
     ]
    }
   ],
   "source": [
    "device_name = tf.test.gpu_device_name()\n",
    "if device_name != '/device:GPU:0':\n",
    "  raise SystemError('GPU device not found')\n",
    "print('Found GPU at: {}'.format(device_name))"
   ]
  },
  {
   "attachments": {},
   "cell_type": "markdown",
   "metadata": {},
   "source": [
    "### Parte ormai inutile"
   ]
  },
  {
   "attachments": {},
   "cell_type": "markdown",
   "metadata": {},
   "source": [
    "Train and test arrays from generator."
   ]
  },
  {
   "cell_type": "code",
   "execution_count": 6,
   "metadata": {},
   "outputs": [
    {
     "name": "stdout",
     "output_type": "stream",
     "text": [
      "<class 'itertools.islice'>\n"
     ]
    }
   ],
   "source": [
    "import itertools\n",
    "import numpy as np\n",
    "from sklearn.model_selection import train_test_split\n",
    "\n",
    "train_gen = itertools.islice(polar_generator(batchsize=1, grid=(10,10)), 100000)\n",
    "print(type(train_gen))"
   ]
  },
  {
   "attachments": {},
   "cell_type": "markdown",
   "metadata": {},
   "source": [
    "Shape check."
   ]
  },
  {
   "cell_type": "code",
   "execution_count": 7,
   "metadata": {},
   "outputs": [],
   "source": [
    "train = list(train_gen)"
   ]
  },
  {
   "attachments": {},
   "cell_type": "markdown",
   "metadata": {},
   "source": [
    "Array conversion."
   ]
  },
  {
   "cell_type": "code",
   "execution_count": 8,
   "metadata": {},
   "outputs": [],
   "source": [
    "X_train = np.array([x for x, y in train])\n",
    "y_train = np.array([y for x, y in train]) #for array in y for label in array])"
   ]
  },
  {
   "attachments": {},
   "cell_type": "markdown",
   "metadata": {},
   "source": [
    "Array shape check."
   ]
  },
  {
   "cell_type": "code",
   "execution_count": 9,
   "metadata": {},
   "outputs": [
    {
     "name": "stdout",
     "output_type": "stream",
     "text": [
      "(100000, 2, 1)\n",
      "(100000, 1, 100)\n"
     ]
    }
   ],
   "source": [
    "print(X_train.shape)\n",
    "print(y_train.shape)"
   ]
  },
  {
   "attachments": {},
   "cell_type": "markdown",
   "metadata": {},
   "source": [
    "### Models"
   ]
  },
  {
   "attachments": {},
   "cell_type": "markdown",
   "metadata": {},
   "source": [
    "#### Concatenated model"
   ]
  },
  {
   "cell_type": "code",
   "execution_count": 10,
   "metadata": {},
   "outputs": [
    {
     "name": "stdout",
     "output_type": "stream",
     "text": [
      "Model: \"model\"\n",
      "__________________________________________________________________________________________________\n",
      " Layer (type)                   Output Shape         Param #     Connected to                     \n",
      "==================================================================================================\n",
      " input_3 (InputLayer)           [(None, 1)]          0           []                               \n",
      "                                                                                                  \n",
      " input_4 (InputLayer)           [(None, 1)]          0           []                               \n",
      "                                                                                                  \n",
      " concatenate_1 (Concatenate)    (None, 2)            0           ['input_3[0][0]',                \n",
      "                                                                  'input_4[0][0]']                \n",
      "                                                                                                  \n",
      " dense_4 (Dense)                (None, 50)           150         ['concatenate_1[0][0]']          \n",
      "                                                                                                  \n",
      " dense_5 (Dense)                (None, 50)           2550        ['dense_4[0][0]']                \n",
      "                                                                                                  \n",
      " dense_6 (Dense)                (None, 100)          5100        ['dense_5[0][0]']                \n",
      "                                                                                                  \n",
      "==================================================================================================\n",
      "Total params: 7,800\n",
      "Trainable params: 7,800\n",
      "Non-trainable params: 0\n",
      "__________________________________________________________________________________________________\n"
     ]
    }
   ],
   "source": [
    "# 93%\n",
    "from keras.layers import Input, Dense, concatenate, LeakyReLU, Dropout\n",
    "\n",
    "theta = Input(shape=(1,))\n",
    "rho = Input(shape=(1,))\n",
    "\n",
    "x = concatenate([theta, rho])\n",
    "#x = Dense(10, activation=\"relu\")(x)\n",
    "#x = Dense(20, activation=LeakyReLU(alpha=0.01))(x)\n",
    "x = Dense(50, activation=\"relu\")(x)\n",
    "x = Dense(50, activation=\"tanh\")(x)\n",
    "#x = Dropout(0.1)(x)\n",
    "#x = Dense(20, activation=\"tanh\")(x)\n",
    "#x = Dense(10, activation=\"tanh\")(x)\n",
    "#x = Dense(2, activation=LeakyReLU(alpha=0.1))(x)\n",
    "out = Dense(100, activation='softmax')(x)\n",
    "\n",
    "# Create model\n",
    "model = Model(inputs=[theta, rho], outputs=out)\n",
    "# Compile\n",
    "model.compile(optimizer='adam', loss='mse', metrics=['accuracy'])\n",
    "model.summary()"
   ]
  },
  {
   "attachments": {},
   "cell_type": "markdown",
   "metadata": {},
   "source": [
    "#### CNN Models"
   ]
  },
  {
   "attachments": {},
   "cell_type": "markdown",
   "metadata": {},
   "source": [
    "Good model!"
   ]
  },
  {
   "cell_type": "code",
   "execution_count": 130,
   "metadata": {},
   "outputs": [
    {
     "name": "stdout",
     "output_type": "stream",
     "text": [
      "Model: \"model_34\"\n",
      "__________________________________________________________________________________________________\n",
      " Layer (type)                   Output Shape         Param #     Connected to                     \n",
      "==================================================================================================\n",
      " input_107 (InputLayer)         [(None, 1)]          0           []                               \n",
      "                                                                                                  \n",
      " input_108 (InputLayer)         [(None, 1)]          0           []                               \n",
      "                                                                                                  \n",
      " concatenate_53 (Concatenate)   (None, 2)            0           ['input_107[0][0]',              \n",
      "                                                                  'input_108[0][0]']              \n",
      "                                                                                                  \n",
      " reshape_41 (Reshape)           (None, 1, 1, 2)      0           ['concatenate_53[0][0]']         \n",
      "                                                                                                  \n",
      " conv2d_56 (Conv2D)             (None, 1, 1, 16)     48          ['reshape_41[0][0]']             \n",
      "                                                                                                  \n",
      " conv2d_57 (Conv2D)             (None, 1, 1, 32)     544         ['conv2d_56[0][0]']              \n",
      "                                                                                                  \n",
      " flatten_40 (Flatten)           (None, 32)           0           ['conv2d_57[0][0]']              \n",
      "                                                                                                  \n",
      " dense_73 (Dense)               (None, 100)          3300        ['flatten_40[0][0]']             \n",
      "                                                                                                  \n",
      "==================================================================================================\n",
      "Total params: 3,892\n",
      "Trainable params: 3,892\n",
      "Non-trainable params: 0\n",
      "__________________________________________________________________________________________________\n"
     ]
    },
    {
     "name": "stderr",
     "output_type": "stream",
     "text": [
      "/Users/lorenzo/miniconda3/envs/MicroRacer_new/lib/python3.9/site-packages/keras/optimizer_v2/adam.py:105: UserWarning: The `lr` argument is deprecated, use `learning_rate` instead.\n",
      "  super(Adam, self).__init__(name, **kwargs)\n"
     ]
    }
   ],
   "source": [
    "# Good model! -> Without the MaxPooling Layer, it has reached a 93.17% accuracy on test\n",
    "# Trained over 44/50 epochs without callback for LRAdjustments\n",
    "# Batchsize: 64 // Steps per epoch: 10000\n",
    "\n",
    "# Try to consider to add some dense layers \n",
    "# and to change the activation function of the last layer\n",
    "\n",
    "# To improve the accuracy of the model, I could try to:\n",
    "# - add more layers\n",
    "# - change the activation function of the last layer\n",
    "# - change the optimizer\n",
    "# - change the loss function\n",
    "# - change the learning rate\n",
    "# - change the batch size\n",
    "# - change the number of epochs\n",
    "\n",
    "from keras.layers import Input, Conv2D, MaxPooling2D, Flatten, Dense, Dropout\n",
    "from tensorflow.keras.optimizers import Adam\n",
    "\n",
    "########################\n",
    "model_name = \"CNN_single_layer\"\n",
    "########################\n",
    "\n",
    "optimizer = Adam(lr=0.01)\n",
    "\n",
    "theta = Input(shape=(1,))\n",
    "rho = Input(shape=(1,))\n",
    "\n",
    "x = concatenate([theta, rho])\n",
    "# Reshaping (theta, rho) to a 2D grid\n",
    "x = Reshape((1,1,2))(x)\n",
    "# Convolutional layer with 32 filters\n",
    "x = Conv2D(16, (1, 1), activation='tanh')(x)\n",
    "# Convolutional layer with 32 filters\n",
    "x = Conv2D(32, (1, 1), activation='relu')(x)\n",
    "# Max pooling layer\n",
    "#x = MaxPooling2D((1, 1))(x) # I've tried to remove this layer and the performances do not seem to be affected by the removal\n",
    "# Flatten the output\n",
    "x = Flatten()(x)\n",
    "# Fully connected layer with 100 neurons\n",
    "x = Dense(100, activation='softmax')(x)\n",
    "\n",
    "\n",
    "# Create model\n",
    "model = Model(inputs=[theta, rho], outputs=x)\n",
    "\n",
    "# Compile model\n",
    "model.compile(optimizer=optimizer, loss='categorical_crossentropy', metrics=['categorical_accuracy'])\n",
    "model.summary()\n"
   ]
  },
  {
   "cell_type": "code",
   "execution_count": 5,
   "metadata": {},
   "outputs": [
    {
     "name": "stderr",
     "output_type": "stream",
     "text": [
      "2023-01-11 17:35:01.727859: I tensorflow/core/common_runtime/pluggable_device/pluggable_device_factory.cc:305] Could not identify NUMA node of platform GPU ID 0, defaulting to 0. Your kernel may not have been built with NUMA support.\n",
      "2023-01-11 17:35:01.727897: I tensorflow/core/common_runtime/pluggable_device/pluggable_device_factory.cc:271] Created TensorFlow device (/job:localhost/replica:0/task:0/device:GPU:0 with 0 MB memory) -> physical PluggableDevice (device: 0, name: METAL, pci bus id: <undefined>)\n"
     ]
    }
   ],
   "source": [
    "# Recreate the exact same model, including its weights and the optimizer\n",
    "CNN_singleLayer_model = tf.keras.models.load_model('../Saved Models/CNN_single_layer.h5')"
   ]
  },
  {
   "attachments": {},
   "cell_type": "markdown",
   "metadata": {},
   "source": [
    "----------------"
   ]
  },
  {
   "cell_type": "code",
   "execution_count": 85,
   "metadata": {},
   "outputs": [
    {
     "name": "stdout",
     "output_type": "stream",
     "text": [
      "Model: \"model_23\"\n",
      "__________________________________________________________________________________________________\n",
      " Layer (type)                   Output Shape         Param #     Connected to                     \n",
      "==================================================================================================\n",
      " input_77 (InputLayer)          [(None, 1)]          0           []                               \n",
      "                                                                                                  \n",
      " input_78 (InputLayer)          [(None, 1)]          0           []                               \n",
      "                                                                                                  \n",
      " concatenate_38 (Concatenate)   (None, 2)            0           ['input_77[0][0]',               \n",
      "                                                                  'input_78[0][0]']               \n",
      "                                                                                                  \n",
      " reshape_33 (Reshape)           (None, 1, 1, 2)      0           ['concatenate_38[0][0]']         \n",
      "                                                                                                  \n",
      " conv2d_48 (Conv2D)             (None, 1, 1, 64)     192         ['reshape_33[0][0]']             \n",
      "                                                                                                  \n",
      " dense_43 (Dense)               (None, 1, 1, 32)     2080        ['conv2d_48[0][0]']              \n",
      "                                                                                                  \n",
      " flatten_20 (Flatten)           (None, 32)           0           ['dense_43[0][0]']               \n",
      "                                                                                                  \n",
      " dense_44 (Dense)               (None, 100)          3300        ['flatten_20[0][0]']             \n",
      "                                                                                                  \n",
      "==================================================================================================\n",
      "Total params: 5,572\n",
      "Trainable params: 5,572\n",
      "Non-trainable params: 0\n",
      "__________________________________________________________________________________________________\n"
     ]
    }
   ],
   "source": [
    "from keras.layers import Input, Conv2D,Conv1D,  MaxPooling2D, Flatten, Dense, Dropout\n",
    "\n",
    "#Batch 64, it goes around 92%\n",
    "\n",
    "########################\n",
    "model_name = \"CNN_DualDense_layer\"\n",
    "########################\n",
    "\n",
    "theta = Input(shape=(1,))\n",
    "rho = Input(shape=(1,))\n",
    "\n",
    "x = concatenate([theta, rho])\n",
    "# Reshaping (theta, rho) to a 2D grid\n",
    "x = Reshape((1,1,2))(x)\n",
    "# Convolutional layer with 32 filters\n",
    "x = Conv2D(64, (1, 1), activation='relu')(x)\n",
    "# Max pooling layer\n",
    "#x = MaxPooling2D((1, 1))(x) # I've tried to remove this layer and the performances do not seem to be affected by the removal\n",
    "x = Dense(32, activation='tanh')(x)\n",
    "# Flatten the output\n",
    "x = Flatten()(x)\n",
    "# Fully connected layer with 100 neurons\n",
    "x = Dense(100, activation='softmax')(x)\n",
    "\n",
    "\n",
    "# Create model\n",
    "model = Model(inputs=[theta, rho], outputs=x)\n",
    "\n",
    "# Compile model\n",
    "model.compile(optimizer='adam', loss='categorical_crossentropy', metrics=['categorical_accuracy'])\n",
    "model.summary()"
   ]
  },
  {
   "cell_type": "code",
   "execution_count": 15,
   "metadata": {},
   "outputs": [
    {
     "name": "stdout",
     "output_type": "stream",
     "text": [
      "Model: \"model_1\"\n",
      "__________________________________________________________________________________________________\n",
      " Layer (type)                   Output Shape         Param #     Connected to                     \n",
      "==================================================================================================\n",
      " input_3 (InputLayer)           [(None, 1)]          0           []                               \n",
      "                                                                                                  \n",
      " input_4 (InputLayer)           [(None, 1)]          0           []                               \n",
      "                                                                                                  \n",
      " concatenate_1 (Concatenate)    (None, 2)            0           ['input_3[0][0]',                \n",
      "                                                                  'input_4[0][0]']                \n",
      "                                                                                                  \n",
      " dense_3 (Dense)                (None, 10)           30          ['concatenate_1[0][0]']          \n",
      "                                                                                                  \n",
      " dense_4 (Dense)                (None, 100)          1100        ['dense_3[0][0]']                \n",
      "                                                                                                  \n",
      "==================================================================================================\n",
      "Total params: 1,130\n",
      "Trainable params: 1,130\n",
      "Non-trainable params: 0\n",
      "__________________________________________________________________________________________________\n"
     ]
    }
   ],
   "source": [
    "########################\n",
    "model_name = \"TripleDense_layer\"\n",
    "########################\n",
    "\n",
    "# Define input tensors\n",
    "theta = Input(shape=(1,))\n",
    "rho = Input(shape=(1,))\n",
    "\n",
    "# Concatenate the two inputs\n",
    "x = concatenate([theta, rho])\n",
    "\n",
    "# Add fully connected layers\n",
    "x = Dense(10, activation='relu')(x)\n",
    "#x = Dense(20, activation='tanh')(x)# before there was the tanh\n",
    "#x = Dense(16, activation='tanh')(x)\n",
    "\n",
    "# Add final output layer\n",
    "x = Dense(100, activation='softmax')(x)\n",
    "\n",
    "# Create model\n",
    "model = Model(inputs=[theta, rho], outputs=x)\n",
    "\n",
    "# Compile model\n",
    "model.compile(optimizer='adam', loss='categorical_crossentropy', metrics=['categorical_accuracy'])\n",
    "model.summary()"
   ]
  },
  {
   "attachments": {},
   "cell_type": "markdown",
   "metadata": {},
   "source": [
    "### Training the model"
   ]
  },
  {
   "cell_type": "code",
   "execution_count": 51,
   "metadata": {},
   "outputs": [],
   "source": [
    "#tf.config.run_functions_eagerly(True)\n",
    "#tf.data.experimental.enable_debug_mode()"
   ]
  },
  {
   "attachments": {},
   "cell_type": "markdown",
   "metadata": {},
   "source": [
    "Callbacks definitions."
   ]
  },
  {
   "cell_type": "code",
   "execution_count": 126,
   "metadata": {},
   "outputs": [],
   "source": [
    "from keras import callbacks\n",
    "\n",
    "earlystopping = callbacks.EarlyStopping(monitor =\"val_loss\", \n",
    "                                        mode =\"auto\", patience = 8, \n",
    "                                        restore_best_weights = True)\n",
    "\n",
    "reduce_lr = callbacks.ReduceLROnPlateau(monitor='val_loss', factor=0.1,\n",
    "                                        patience=4, min_lr=0.00001)\n",
    "\n",
    "checkpoint_path = \"Best_models/\" + model_name + \".h5\"\n",
    "checkpoint = callbacks.ModelCheckpoint(checkpoint_path,\n",
    "                                       monitor='val_loss', verbose=1,\n",
    "                                       save_best_only=True, mode='auto')\n"
   ]
  },
  {
   "attachments": {},
   "cell_type": "markdown",
   "metadata": {},
   "source": [
    "Effective train."
   ]
  },
  {
   "cell_type": "code",
   "execution_count": 127,
   "metadata": {},
   "outputs": [],
   "source": [
    "batchsize = 64\n",
    "epochs = 200\n",
    "steps_per_epoch = 54000//batchsize\n",
    "validation_steps = 6000//batchsize"
   ]
  },
  {
   "cell_type": "code",
   "execution_count": 131,
   "metadata": {},
   "outputs": [
    {
     "name": "stdout",
     "output_type": "stream",
     "text": [
      "Epoch 1/200\n"
     ]
    },
    {
     "name": "stderr",
     "output_type": "stream",
     "text": [
      "2023-01-11 16:59:28.908850: I tensorflow/core/grappler/optimizers/custom_graph_optimizer_registry.cc:113] Plugin optimizer for device_type GPU is enabled.\n"
     ]
    },
    {
     "name": "stdout",
     "output_type": "stream",
     "text": [
      "839/843 [============================>.] - ETA: 0s - loss: 1.5289 - categorical_accuracy: 0.4972"
     ]
    },
    {
     "name": "stderr",
     "output_type": "stream",
     "text": [
      "2023-01-11 16:59:38.429284: I tensorflow/core/grappler/optimizers/custom_graph_optimizer_registry.cc:113] Plugin optimizer for device_type GPU is enabled.\n"
     ]
    },
    {
     "name": "stdout",
     "output_type": "stream",
     "text": [
      "\n",
      "Epoch 1: val_loss did not improve from 0.50275\n",
      "843/843 [==============================] - 11s 12ms/step - loss: 1.5254 - categorical_accuracy: 0.4980 - val_loss: 0.8216 - val_categorical_accuracy: 0.6784 - lr: 0.0100\n",
      "Epoch 2/200\n",
      "841/843 [============================>.] - ETA: 0s - loss: 0.6619 - categorical_accuracy: 0.7362\n",
      "Epoch 2: val_loss did not improve from 0.50275\n",
      "843/843 [==============================] - 10s 11ms/step - loss: 0.6617 - categorical_accuracy: 0.7363 - val_loss: 0.6330 - val_categorical_accuracy: 0.7485 - lr: 0.0100\n",
      "Epoch 3/200\n",
      "839/843 [============================>.] - ETA: 0s - loss: 0.5315 - categorical_accuracy: 0.7848\n",
      "Epoch 3: val_loss improved from 0.50275 to 0.43254, saving model to Best_models/CNN_single_layer.h5\n",
      "843/843 [==============================] - 10s 12ms/step - loss: 0.5309 - categorical_accuracy: 0.7850 - val_loss: 0.4325 - val_categorical_accuracy: 0.8269 - lr: 0.0100\n",
      "Epoch 4/200\n",
      "840/843 [============================>.] - ETA: 0s - loss: 0.4957 - categorical_accuracy: 0.7974\n",
      "Epoch 4: val_loss improved from 0.43254 to 0.40852, saving model to Best_models/CNN_single_layer.h5\n",
      "843/843 [==============================] - 10s 11ms/step - loss: 0.4957 - categorical_accuracy: 0.7973 - val_loss: 0.4085 - val_categorical_accuracy: 0.8359 - lr: 0.0100\n",
      "Epoch 5/200\n",
      "839/843 [============================>.] - ETA: 0s - loss: 0.4392 - categorical_accuracy: 0.8203\n",
      "Epoch 5: val_loss did not improve from 0.40852\n",
      "843/843 [==============================] - 10s 12ms/step - loss: 0.4387 - categorical_accuracy: 0.8204 - val_loss: 0.4121 - val_categorical_accuracy: 0.8244 - lr: 0.0100\n",
      "Epoch 6/200\n",
      "840/843 [============================>.] - ETA: 0s - loss: 0.4193 - categorical_accuracy: 0.8281\n",
      "Epoch 6: val_loss improved from 0.40852 to 0.35812, saving model to Best_models/CNN_single_layer.h5\n",
      "843/843 [==============================] - 10s 12ms/step - loss: 0.4189 - categorical_accuracy: 0.8282 - val_loss: 0.3581 - val_categorical_accuracy: 0.8518 - lr: 0.0100\n",
      "Epoch 7/200\n",
      "843/843 [==============================] - ETA: 0s - loss: 0.3956 - categorical_accuracy: 0.8365\n",
      "Epoch 7: val_loss did not improve from 0.35812\n",
      "843/843 [==============================] - 10s 12ms/step - loss: 0.3956 - categorical_accuracy: 0.8365 - val_loss: 0.4054 - val_categorical_accuracy: 0.8342 - lr: 0.0100\n",
      "Epoch 8/200\n",
      "840/843 [============================>.] - ETA: 0s - loss: 0.3887 - categorical_accuracy: 0.8404\n",
      "Epoch 8: val_loss did not improve from 0.35812\n",
      "843/843 [==============================] - 10s 12ms/step - loss: 0.3888 - categorical_accuracy: 0.8403 - val_loss: 0.5266 - val_categorical_accuracy: 0.7898 - lr: 0.0100\n",
      "Epoch 9/200\n",
      "841/843 [============================>.] - ETA: 0s - loss: 0.3918 - categorical_accuracy: 0.8398\n",
      "Epoch 9: val_loss did not improve from 0.35812\n",
      "843/843 [==============================] - 10s 12ms/step - loss: 0.3919 - categorical_accuracy: 0.8397 - val_loss: 0.4546 - val_categorical_accuracy: 0.8103 - lr: 0.0100\n",
      "Epoch 10/200\n",
      "842/843 [============================>.] - ETA: 0s - loss: 0.3735 - categorical_accuracy: 0.8493\n",
      "Epoch 10: val_loss improved from 0.35812 to 0.35132, saving model to Best_models/CNN_single_layer.h5\n",
      "843/843 [==============================] - 10s 12ms/step - loss: 0.3734 - categorical_accuracy: 0.8493 - val_loss: 0.3513 - val_categorical_accuracy: 0.8587 - lr: 0.0100\n",
      "Epoch 11/200\n",
      "842/843 [============================>.] - ETA: 0s - loss: 0.3672 - categorical_accuracy: 0.8486\n",
      "Epoch 11: val_loss did not improve from 0.35132\n",
      "843/843 [==============================] - 10s 12ms/step - loss: 0.3671 - categorical_accuracy: 0.8486 - val_loss: 0.3819 - val_categorical_accuracy: 0.8469 - lr: 0.0100\n",
      "Epoch 12/200\n",
      "843/843 [==============================] - ETA: 0s - loss: 0.3518 - categorical_accuracy: 0.8568\n",
      "Epoch 12: val_loss did not improve from 0.35132\n",
      "843/843 [==============================] - 10s 12ms/step - loss: 0.3518 - categorical_accuracy: 0.8568 - val_loss: 0.3520 - val_categorical_accuracy: 0.8527 - lr: 0.0100\n",
      "Epoch 13/200\n",
      "840/843 [============================>.] - ETA: 0s - loss: 0.3663 - categorical_accuracy: 0.8516\n",
      "Epoch 13: val_loss did not improve from 0.35132\n",
      "843/843 [==============================] - 10s 11ms/step - loss: 0.3661 - categorical_accuracy: 0.8517 - val_loss: 0.3769 - val_categorical_accuracy: 0.8535 - lr: 0.0100\n",
      "Epoch 14/200\n",
      "839/843 [============================>.] - ETA: 0s - loss: 0.3509 - categorical_accuracy: 0.8584\n",
      "Epoch 14: val_loss did not improve from 0.35132\n",
      "843/843 [==============================] - 10s 11ms/step - loss: 0.3513 - categorical_accuracy: 0.8582 - val_loss: 0.3608 - val_categorical_accuracy: 0.8564 - lr: 0.0100\n",
      "Epoch 15/200\n",
      "839/843 [============================>.] - ETA: 0s - loss: 0.1694 - categorical_accuracy: 0.9484\n",
      "Epoch 15: val_loss improved from 0.35132 to 0.16724, saving model to Best_models/CNN_single_layer.h5\n",
      "843/843 [==============================] - 10s 11ms/step - loss: 0.1694 - categorical_accuracy: 0.9485 - val_loss: 0.1672 - val_categorical_accuracy: 0.9481 - lr: 1.0000e-03\n",
      "Epoch 16/200\n",
      "843/843 [==============================] - ETA: 0s - loss: 0.1670 - categorical_accuracy: 0.9471\n",
      "Epoch 16: val_loss improved from 0.16724 to 0.15707, saving model to Best_models/CNN_single_layer.h5\n",
      "843/843 [==============================] - 10s 12ms/step - loss: 0.1670 - categorical_accuracy: 0.9471 - val_loss: 0.1571 - val_categorical_accuracy: 0.9617 - lr: 1.0000e-03\n",
      "Epoch 17/200\n",
      "843/843 [==============================] - ETA: 0s - loss: 0.1667 - categorical_accuracy: 0.9459\n",
      "Epoch 17: val_loss did not improve from 0.15707\n",
      "843/843 [==============================] - 10s 11ms/step - loss: 0.1667 - categorical_accuracy: 0.9459 - val_loss: 0.1673 - val_categorical_accuracy: 0.9457 - lr: 1.0000e-03\n",
      "Epoch 18/200\n",
      "841/843 [============================>.] - ETA: 0s - loss: 0.1654 - categorical_accuracy: 0.9462\n",
      "Epoch 18: val_loss did not improve from 0.15707\n",
      "843/843 [==============================] - 10s 12ms/step - loss: 0.1654 - categorical_accuracy: 0.9461 - val_loss: 0.1582 - val_categorical_accuracy: 0.9514 - lr: 1.0000e-03\n",
      "Epoch 19/200\n",
      "839/843 [============================>.] - ETA: 0s - loss: 0.1624 - categorical_accuracy: 0.9467\n",
      "Epoch 19: val_loss did not improve from 0.15707\n",
      "843/843 [==============================] - 10s 12ms/step - loss: 0.1624 - categorical_accuracy: 0.9468 - val_loss: 0.1632 - val_categorical_accuracy: 0.9503 - lr: 1.0000e-03\n",
      "Epoch 20/200\n",
      "839/843 [============================>.] - ETA: 0s - loss: 0.1604 - categorical_accuracy: 0.9472\n",
      "Epoch 20: val_loss improved from 0.15707 to 0.15657, saving model to Best_models/CNN_single_layer.h5\n",
      "843/843 [==============================] - 10s 12ms/step - loss: 0.1603 - categorical_accuracy: 0.9472 - val_loss: 0.1566 - val_categorical_accuracy: 0.9501 - lr: 1.0000e-03\n",
      "Epoch 21/200\n",
      "843/843 [==============================] - ETA: 0s - loss: 0.1597 - categorical_accuracy: 0.9473\n",
      "Epoch 21: val_loss improved from 0.15657 to 0.15003, saving model to Best_models/CNN_single_layer.h5\n",
      "843/843 [==============================] - 10s 12ms/step - loss: 0.1597 - categorical_accuracy: 0.9473 - val_loss: 0.1500 - val_categorical_accuracy: 0.9528 - lr: 1.0000e-03\n",
      "Epoch 22/200\n",
      "840/843 [============================>.] - ETA: 0s - loss: 0.1591 - categorical_accuracy: 0.9472\n",
      "Epoch 22: val_loss did not improve from 0.15003\n",
      "843/843 [==============================] - 10s 11ms/step - loss: 0.1590 - categorical_accuracy: 0.9472 - val_loss: 0.1510 - val_categorical_accuracy: 0.9503 - lr: 1.0000e-03\n",
      "Epoch 23/200\n",
      "840/843 [============================>.] - ETA: 0s - loss: 0.1551 - categorical_accuracy: 0.9502\n",
      "Epoch 23: val_loss did not improve from 0.15003\n",
      "843/843 [==============================] - 10s 12ms/step - loss: 0.1551 - categorical_accuracy: 0.9501 - val_loss: 0.1527 - val_categorical_accuracy: 0.9493 - lr: 1.0000e-03\n",
      "Epoch 24/200\n",
      "842/843 [============================>.] - ETA: 0s - loss: 0.1573 - categorical_accuracy: 0.9460\n",
      "Epoch 24: val_loss did not improve from 0.15003\n",
      "843/843 [==============================] - 10s 12ms/step - loss: 0.1573 - categorical_accuracy: 0.9460 - val_loss: 0.1559 - val_categorical_accuracy: 0.9503 - lr: 1.0000e-03\n",
      "Epoch 25/200\n",
      "843/843 [==============================] - ETA: 0s - loss: 0.1545 - categorical_accuracy: 0.9476\n",
      "Epoch 25: val_loss improved from 0.15003 to 0.14926, saving model to Best_models/CNN_single_layer.h5\n",
      "843/843 [==============================] - 10s 12ms/step - loss: 0.1545 - categorical_accuracy: 0.9476 - val_loss: 0.1493 - val_categorical_accuracy: 0.9526 - lr: 1.0000e-03\n",
      "Epoch 26/200\n",
      "842/843 [============================>.] - ETA: 0s - loss: 0.1534 - categorical_accuracy: 0.9490\n",
      "Epoch 26: val_loss did not improve from 0.14926\n",
      "843/843 [==============================] - 10s 12ms/step - loss: 0.1533 - categorical_accuracy: 0.9490 - val_loss: 0.1516 - val_categorical_accuracy: 0.9479 - lr: 1.0000e-03\n",
      "Epoch 27/200\n",
      "843/843 [==============================] - ETA: 0s - loss: 0.1509 - categorical_accuracy: 0.9494\n",
      "Epoch 27: val_loss did not improve from 0.14926\n",
      "843/843 [==============================] - 10s 12ms/step - loss: 0.1509 - categorical_accuracy: 0.9494 - val_loss: 0.1544 - val_categorical_accuracy: 0.9472 - lr: 1.0000e-03\n",
      "Epoch 28/200\n",
      "841/843 [============================>.] - ETA: 0s - loss: 0.1504 - categorical_accuracy: 0.9490\n",
      "Epoch 28: val_loss did not improve from 0.14926\n",
      "843/843 [==============================] - 10s 11ms/step - loss: 0.1504 - categorical_accuracy: 0.9491 - val_loss: 0.1512 - val_categorical_accuracy: 0.9489 - lr: 1.0000e-03\n",
      "Epoch 29/200\n",
      "841/843 [============================>.] - ETA: 0s - loss: 0.1462 - categorical_accuracy: 0.9513\n",
      "Epoch 29: val_loss improved from 0.14926 to 0.14702, saving model to Best_models/CNN_single_layer.h5\n",
      "843/843 [==============================] - 10s 12ms/step - loss: 0.1462 - categorical_accuracy: 0.9514 - val_loss: 0.1470 - val_categorical_accuracy: 0.9530 - lr: 1.0000e-03\n",
      "Epoch 30/200\n",
      "840/843 [============================>.] - ETA: 0s - loss: 0.1483 - categorical_accuracy: 0.9494\n",
      "Epoch 30: val_loss did not improve from 0.14702\n",
      "843/843 [==============================] - 10s 11ms/step - loss: 0.1484 - categorical_accuracy: 0.9494 - val_loss: 0.1474 - val_categorical_accuracy: 0.9493 - lr: 1.0000e-03\n",
      "Epoch 31/200\n",
      "839/843 [============================>.] - ETA: 0s - loss: 0.1431 - categorical_accuracy: 0.9516\n",
      "Epoch 31: val_loss improved from 0.14702 to 0.14002, saving model to Best_models/CNN_single_layer.h5\n",
      "843/843 [==============================] - 10s 12ms/step - loss: 0.1432 - categorical_accuracy: 0.9516 - val_loss: 0.1400 - val_categorical_accuracy: 0.9536 - lr: 1.0000e-03\n",
      "Epoch 32/200\n",
      "841/843 [============================>.] - ETA: 0s - loss: 0.1450 - categorical_accuracy: 0.9504\n",
      "Epoch 32: val_loss did not improve from 0.14002\n",
      "843/843 [==============================] - 10s 11ms/step - loss: 0.1449 - categorical_accuracy: 0.9504 - val_loss: 0.1517 - val_categorical_accuracy: 0.9442 - lr: 1.0000e-03\n",
      "Epoch 33/200\n",
      "842/843 [============================>.] - ETA: 0s - loss: 0.1463 - categorical_accuracy: 0.9486\n",
      "Epoch 33: val_loss did not improve from 0.14002\n",
      "843/843 [==============================] - 10s 12ms/step - loss: 0.1463 - categorical_accuracy: 0.9486 - val_loss: 0.1413 - val_categorical_accuracy: 0.9545 - lr: 1.0000e-03\n",
      "Epoch 34/200\n",
      "842/843 [============================>.] - ETA: 0s - loss: 0.1443 - categorical_accuracy: 0.9505\n",
      "Epoch 34: val_loss improved from 0.14002 to 0.13602, saving model to Best_models/CNN_single_layer.h5\n",
      "843/843 [==============================] - 10s 12ms/step - loss: 0.1443 - categorical_accuracy: 0.9505 - val_loss: 0.1360 - val_categorical_accuracy: 0.9565 - lr: 1.0000e-03\n",
      "Epoch 35/200\n",
      "843/843 [==============================] - ETA: 0s - loss: 0.1443 - categorical_accuracy: 0.9497\n",
      "Epoch 35: val_loss did not improve from 0.13602\n",
      "843/843 [==============================] - 10s 12ms/step - loss: 0.1443 - categorical_accuracy: 0.9497 - val_loss: 0.1420 - val_categorical_accuracy: 0.9545 - lr: 1.0000e-03\n",
      "Epoch 36/200\n",
      "842/843 [============================>.] - ETA: 0s - loss: 0.1403 - categorical_accuracy: 0.9518\n",
      "Epoch 36: val_loss improved from 0.13602 to 0.13498, saving model to Best_models/CNN_single_layer.h5\n",
      "843/843 [==============================] - 10s 12ms/step - loss: 0.1402 - categorical_accuracy: 0.9518 - val_loss: 0.1350 - val_categorical_accuracy: 0.9540 - lr: 1.0000e-03\n",
      "Epoch 37/200\n",
      "843/843 [==============================] - ETA: 0s - loss: 0.1402 - categorical_accuracy: 0.9502\n",
      "Epoch 37: val_loss did not improve from 0.13498\n",
      "843/843 [==============================] - 10s 12ms/step - loss: 0.1402 - categorical_accuracy: 0.9502 - val_loss: 0.1435 - val_categorical_accuracy: 0.9466 - lr: 1.0000e-03\n",
      "Epoch 38/200\n",
      "843/843 [==============================] - ETA: 0s - loss: 0.1411 - categorical_accuracy: 0.9512\n",
      "Epoch 38: val_loss did not improve from 0.13498\n",
      "843/843 [==============================] - 10s 12ms/step - loss: 0.1411 - categorical_accuracy: 0.9512 - val_loss: 0.1364 - val_categorical_accuracy: 0.9540 - lr: 1.0000e-03\n",
      "Epoch 39/200\n",
      "839/843 [============================>.] - ETA: 0s - loss: 0.1381 - categorical_accuracy: 0.9516\n",
      "Epoch 39: val_loss improved from 0.13498 to 0.13359, saving model to Best_models/CNN_single_layer.h5\n",
      "843/843 [==============================] - 10s 12ms/step - loss: 0.1382 - categorical_accuracy: 0.9515 - val_loss: 0.1336 - val_categorical_accuracy: 0.9540 - lr: 1.0000e-03\n",
      "Epoch 40/200\n",
      "843/843 [==============================] - ETA: 0s - loss: 0.1377 - categorical_accuracy: 0.9524\n",
      "Epoch 40: val_loss improved from 0.13359 to 0.13045, saving model to Best_models/CNN_single_layer.h5\n",
      "843/843 [==============================] - 10s 12ms/step - loss: 0.1377 - categorical_accuracy: 0.9524 - val_loss: 0.1304 - val_categorical_accuracy: 0.9556 - lr: 1.0000e-03\n",
      "Epoch 41/200\n",
      "842/843 [============================>.] - ETA: 0s - loss: 0.1375 - categorical_accuracy: 0.9517\n",
      "Epoch 41: val_loss did not improve from 0.13045\n",
      "843/843 [==============================] - 10s 12ms/step - loss: 0.1376 - categorical_accuracy: 0.9517 - val_loss: 0.1383 - val_categorical_accuracy: 0.9514 - lr: 1.0000e-03\n",
      "Epoch 42/200\n",
      "840/843 [============================>.] - ETA: 0s - loss: 0.1376 - categorical_accuracy: 0.9512\n",
      "Epoch 42: val_loss did not improve from 0.13045\n",
      "843/843 [==============================] - 10s 12ms/step - loss: 0.1376 - categorical_accuracy: 0.9511 - val_loss: 0.1384 - val_categorical_accuracy: 0.9493 - lr: 1.0000e-03\n",
      "Epoch 43/200\n",
      "840/843 [============================>.] - ETA: 0s - loss: 0.1362 - categorical_accuracy: 0.9517\n",
      "Epoch 43: val_loss did not improve from 0.13045\n",
      "843/843 [==============================] - 10s 12ms/step - loss: 0.1362 - categorical_accuracy: 0.9517 - val_loss: 0.1436 - val_categorical_accuracy: 0.9456 - lr: 1.0000e-03\n",
      "Epoch 44/200\n",
      "841/843 [============================>.] - ETA: 0s - loss: 0.1350 - categorical_accuracy: 0.9521\n",
      "Epoch 44: val_loss did not improve from 0.13045\n",
      "843/843 [==============================] - 10s 12ms/step - loss: 0.1349 - categorical_accuracy: 0.9521 - val_loss: 0.1347 - val_categorical_accuracy: 0.9546 - lr: 1.0000e-03\n",
      "Epoch 45/200\n",
      "842/843 [============================>.] - ETA: 0s - loss: 0.1224 - categorical_accuracy: 0.9646\n",
      "Epoch 45: val_loss improved from 0.13045 to 0.11627, saving model to Best_models/CNN_single_layer.h5\n",
      "843/843 [==============================] - 10s 12ms/step - loss: 0.1224 - categorical_accuracy: 0.9646 - val_loss: 0.1163 - val_categorical_accuracy: 0.9693 - lr: 1.0000e-04\n",
      "Epoch 46/200\n",
      "841/843 [============================>.] - ETA: 0s - loss: 0.1212 - categorical_accuracy: 0.9655\n",
      "Epoch 46: val_loss did not improve from 0.11627\n",
      "843/843 [==============================] - 10s 12ms/step - loss: 0.1212 - categorical_accuracy: 0.9655 - val_loss: 0.1239 - val_categorical_accuracy: 0.9624 - lr: 1.0000e-04\n",
      "Epoch 47/200\n",
      "843/843 [==============================] - ETA: 0s - loss: 0.1205 - categorical_accuracy: 0.9667\n",
      "Epoch 47: val_loss did not improve from 0.11627\n",
      "843/843 [==============================] - 10s 12ms/step - loss: 0.1205 - categorical_accuracy: 0.9667 - val_loss: 0.1199 - val_categorical_accuracy: 0.9652 - lr: 1.0000e-04\n",
      "Epoch 48/200\n",
      "842/843 [============================>.] - ETA: 0s - loss: 0.1185 - categorical_accuracy: 0.9670\n",
      "Epoch 48: val_loss did not improve from 0.11627\n",
      "843/843 [==============================] - 10s 12ms/step - loss: 0.1185 - categorical_accuracy: 0.9670 - val_loss: 0.1197 - val_categorical_accuracy: 0.9682 - lr: 1.0000e-04\n",
      "Epoch 49/200\n",
      "840/843 [============================>.] - ETA: 0s - loss: 0.1199 - categorical_accuracy: 0.9664\n",
      "Epoch 49: val_loss did not improve from 0.11627\n",
      "843/843 [==============================] - 10s 12ms/step - loss: 0.1199 - categorical_accuracy: 0.9664 - val_loss: 0.1174 - val_categorical_accuracy: 0.9659 - lr: 1.0000e-04\n",
      "Epoch 50/200\n",
      "842/843 [============================>.] - ETA: 0s - loss: 0.1190 - categorical_accuracy: 0.9670\n",
      "Epoch 50: val_loss improved from 0.11627 to 0.11597, saving model to Best_models/CNN_single_layer.h5\n",
      "843/843 [==============================] - 10s 12ms/step - loss: 0.1190 - categorical_accuracy: 0.9670 - val_loss: 0.1160 - val_categorical_accuracy: 0.9711 - lr: 1.0000e-05\n",
      "Epoch 51/200\n",
      "840/843 [============================>.] - ETA: 0s - loss: 0.1186 - categorical_accuracy: 0.9695\n",
      "Epoch 51: val_loss did not improve from 0.11597\n",
      "843/843 [==============================] - 10s 12ms/step - loss: 0.1186 - categorical_accuracy: 0.9695 - val_loss: 0.1186 - val_categorical_accuracy: 0.9689 - lr: 1.0000e-05\n",
      "Epoch 52/200\n",
      "839/843 [============================>.] - ETA: 0s - loss: 0.1197 - categorical_accuracy: 0.9672\n",
      "Epoch 52: val_loss did not improve from 0.11597\n",
      "843/843 [==============================] - 10s 11ms/step - loss: 0.1198 - categorical_accuracy: 0.9672 - val_loss: 0.1194 - val_categorical_accuracy: 0.9674 - lr: 1.0000e-05\n",
      "Epoch 53/200\n",
      "841/843 [============================>.] - ETA: 0s - loss: 0.1205 - categorical_accuracy: 0.9683\n",
      "Epoch 53: val_loss did not improve from 0.11597\n",
      "843/843 [==============================] - 10s 12ms/step - loss: 0.1205 - categorical_accuracy: 0.9683 - val_loss: 0.1216 - val_categorical_accuracy: 0.9676 - lr: 1.0000e-05\n",
      "Epoch 54/200\n",
      "842/843 [============================>.] - ETA: 0s - loss: 0.1178 - categorical_accuracy: 0.9695\n",
      "Epoch 54: val_loss did not improve from 0.11597\n",
      "843/843 [==============================] - 10s 12ms/step - loss: 0.1178 - categorical_accuracy: 0.9696 - val_loss: 0.1174 - val_categorical_accuracy: 0.9703 - lr: 1.0000e-05\n",
      "Epoch 55/200\n",
      "841/843 [============================>.] - ETA: 0s - loss: 0.1180 - categorical_accuracy: 0.9693\n",
      "Epoch 55: val_loss did not improve from 0.11597\n",
      "843/843 [==============================] - 10s 12ms/step - loss: 0.1178 - categorical_accuracy: 0.9694 - val_loss: 0.1210 - val_categorical_accuracy: 0.9677 - lr: 1.0000e-05\n",
      "Epoch 56/200\n",
      "842/843 [============================>.] - ETA: 0s - loss: 0.1188 - categorical_accuracy: 0.9681\n",
      "Epoch 56: val_loss improved from 0.11597 to 0.11299, saving model to Best_models/CNN_single_layer.h5\n",
      "843/843 [==============================] - 10s 12ms/step - loss: 0.1188 - categorical_accuracy: 0.9681 - val_loss: 0.1130 - val_categorical_accuracy: 0.9689 - lr: 1.0000e-05\n",
      "Epoch 57/200\n",
      "839/843 [============================>.] - ETA: 0s - loss: 0.1179 - categorical_accuracy: 0.9681\n",
      "Epoch 57: val_loss did not improve from 0.11299\n",
      "843/843 [==============================] - 10s 12ms/step - loss: 0.1179 - categorical_accuracy: 0.9681 - val_loss: 0.1151 - val_categorical_accuracy: 0.9701 - lr: 1.0000e-05\n",
      "Epoch 58/200\n",
      "840/843 [============================>.] - ETA: 0s - loss: 0.1196 - categorical_accuracy: 0.9679\n",
      "Epoch 58: val_loss did not improve from 0.11299\n",
      "843/843 [==============================] - 10s 11ms/step - loss: 0.1196 - categorical_accuracy: 0.9679 - val_loss: 0.1160 - val_categorical_accuracy: 0.9691 - lr: 1.0000e-05\n",
      "Epoch 59/200\n",
      "840/843 [============================>.] - ETA: 0s - loss: 0.1179 - categorical_accuracy: 0.9684\n",
      "Epoch 59: val_loss did not improve from 0.11299\n",
      "843/843 [==============================] - 10s 11ms/step - loss: 0.1180 - categorical_accuracy: 0.9684 - val_loss: 0.1215 - val_categorical_accuracy: 0.9664 - lr: 1.0000e-05\n",
      "Epoch 60/200\n",
      "839/843 [============================>.] - ETA: 0s - loss: 0.1176 - categorical_accuracy: 0.9689\n",
      "Epoch 60: val_loss did not improve from 0.11299\n",
      "843/843 [==============================] - 10s 12ms/step - loss: 0.1177 - categorical_accuracy: 0.9689 - val_loss: 0.1197 - val_categorical_accuracy: 0.9669 - lr: 1.0000e-05\n",
      "Epoch 61/200\n",
      "839/843 [============================>.] - ETA: 0s - loss: 0.1180 - categorical_accuracy: 0.9692\n",
      "Epoch 61: val_loss did not improve from 0.11299\n",
      "843/843 [==============================] - 10s 11ms/step - loss: 0.1180 - categorical_accuracy: 0.9692 - val_loss: 0.1214 - val_categorical_accuracy: 0.9676 - lr: 1.0000e-05\n",
      "Epoch 62/200\n",
      "840/843 [============================>.] - ETA: 0s - loss: 0.1192 - categorical_accuracy: 0.9680\n",
      "Epoch 62: val_loss did not improve from 0.11299\n",
      "843/843 [==============================] - 10s 11ms/step - loss: 0.1193 - categorical_accuracy: 0.9680 - val_loss: 0.1173 - val_categorical_accuracy: 0.9718 - lr: 1.0000e-05\n",
      "Epoch 63/200\n",
      "839/843 [============================>.] - ETA: 0s - loss: 0.1179 - categorical_accuracy: 0.9689\n",
      "Epoch 63: val_loss did not improve from 0.11299\n",
      "843/843 [==============================] - 10s 11ms/step - loss: 0.1179 - categorical_accuracy: 0.9689 - val_loss: 0.1193 - val_categorical_accuracy: 0.9691 - lr: 1.0000e-05\n",
      "Epoch 64/200\n",
      "840/843 [============================>.] - ETA: 0s - loss: 0.1194 - categorical_accuracy: 0.9678\n",
      "Epoch 64: val_loss did not improve from 0.11299\n",
      "843/843 [==============================] - 10s 11ms/step - loss: 0.1195 - categorical_accuracy: 0.9677 - val_loss: 0.1195 - val_categorical_accuracy: 0.9674 - lr: 1.0000e-05\n"
     ]
    }
   ],
   "source": [
    "# Remember, if done the fit with an instance of the generator, to rebuild the instance,\n",
    "# or it will produce an error interrupting iterations\n",
    "\n",
    "\"\"\"\n",
    "Another way could've been to instantiate the fit directly from the generator\n",
    "\n",
    "history = model.fit(polar_generator(batchsize=32, grid=(10,10)),\n",
    "            validation_data=polar_generator(batchsize=32, grid=(10,10)), \n",
    "            steps_per_epoch=1000, \n",
    "            validation_steps=100, \n",
    "            epochs=1000)\n",
    "        \n",
    "\"\"\"\n",
    "with tf.device('/device:GPU:0'):\n",
    "    history = model.fit(polar_generator(batchsize=batchsize, grid=(10,10)),\n",
    "                        validation_data=polar_generator(batchsize=batchsize, grid=(10,10)), \n",
    "                        steps_per_epoch=steps_per_epoch, \n",
    "                        validation_steps=validation_steps, \n",
    "                        epochs=epochs,\n",
    "                        shuffle=True, \n",
    "                        callbacks =[checkpoint, reduce_lr, earlystopping])"
   ]
  },
  {
   "cell_type": "code",
   "execution_count": 132,
   "metadata": {},
   "outputs": [
    {
     "name": "stdout",
     "output_type": "stream",
     "text": [
      "[0.6784273982048035, 0.7484878897666931, 0.8269489407539368, 0.8358535170555115, 0.8244287371635437, 0.8518145084381104, 0.8341733813285828, 0.789818525314331, 0.8103158473968506, 0.8587029576301575, 0.8469421863555908, 0.8526545763015747, 0.8534946441650391, 0.8563507795333862, 0.9480846524238586, 0.961693525314331, 0.9457325339317322, 0.9514448642730713, 0.9502688050270081, 0.9501007795333862, 0.9527889490127563, 0.9502688050270081, 0.9492607712745667, 0.9502688050270081, 0.9526209831237793, 0.9479166865348816, 0.9472446441650391, 0.948924720287323, 0.9529569745063782, 0.9492607712745667, 0.9536290168762207, 0.9442204236984253, 0.9544690847396851, 0.9564852118492126, 0.9544690847396851, 0.9539650678634644, 0.9465726017951965, 0.9539650678634644, 0.9539650678634644, 0.9556451439857483, 0.9514448642730713, 0.9492607712745667, 0.9455645084381104, 0.9546371102333069, 0.9692540168762207, 0.9623655676841736, 0.9652217626571655, 0.9682459831237793, 0.9658938050270081, 0.9711021780967712, 0.9689180254936218, 0.9674059152603149, 0.9675739407539368, 0.9702621102333069, 0.9677419066429138, 0.9689180254936218, 0.9700940847396851, 0.9690859913825989, 0.9663978219032288, 0.9669018983840942, 0.9675739407539368, 0.9717742204666138, 0.9690859913825989, 0.9674059152603149]\n"
     ]
    }
   ],
   "source": [
    "print(history.history[\"val_categorical_accuracy\"])"
   ]
  },
  {
   "cell_type": "code",
   "execution_count": 10,
   "metadata": {},
   "outputs": [
    {
     "ename": "NameError",
     "evalue": "name 'history' is not defined",
     "output_type": "error",
     "traceback": [
      "\u001b[0;31m---------------------------------------------------------------------------\u001b[0m",
      "\u001b[0;31mNameError\u001b[0m                                 Traceback (most recent call last)",
      "Cell \u001b[0;32mIn[10], line 1\u001b[0m\n\u001b[0;32m----> 1\u001b[0m plot_history(history)\n",
      "\u001b[0;31mNameError\u001b[0m: name 'history' is not defined"
     ]
    }
   ],
   "source": [
    "plot_history(history)"
   ]
  },
  {
   "attachments": {},
   "cell_type": "markdown",
   "metadata": {},
   "source": [
    "### Predictions and accuracy evaluation"
   ]
  },
  {
   "attachments": {},
   "cell_type": "markdown",
   "metadata": {},
   "source": [
    "#### Predictions"
   ]
  },
  {
   "cell_type": "code",
   "execution_count": 6,
   "metadata": {},
   "outputs": [],
   "source": [
    "model = CNN_singleLayer_model"
   ]
  },
  {
   "cell_type": "code",
   "execution_count": 13,
   "metadata": {},
   "outputs": [
    {
     "name": "stderr",
     "output_type": "stream",
     "text": [
      "2023-01-11 18:26:47.029507: I tensorflow/core/grappler/optimizers/custom_graph_optimizer_registry.cc:113] Plugin optimizer for device_type GPU is enabled.\n"
     ]
    },
    {
     "data": {
      "text/plain": [
       "20000"
      ]
     },
     "execution_count": 13,
     "metadata": {},
     "output_type": "execute_result"
    }
   ],
   "source": [
    "test_gen = polar_generator(batchsize=20000, grid=(10,10))\n",
    "((theta,rho),maps) = next(test_gen)\n",
    "pred = model.predict([theta,rho])\n",
    "len(pred)"
   ]
  },
  {
   "cell_type": "code",
   "execution_count": 8,
   "metadata": {},
   "outputs": [],
   "source": [
    "from tqdm import tqdm\n",
    "def compute_accuracy(model, generator, num_samples):\n",
    "    test_gen = polar_generator(batchsize=1, grid=(10,10))\n",
    "    acc = 0\n",
    "    for i in tqdm(range(num_samples)):\n",
    "        ((theta,rho),maps) = next(test_gen)\n",
    "        pred = model.predict([theta,rho])\n",
    "        if np.argmax(pred) == np.argmax(maps):\n",
    "            #print(np.argmax(pred[i]) == np.argmax(maps[i]))\n",
    "            acc += 1\n",
    "    return 100*(acc/num_samples)"
   ]
  },
  {
   "cell_type": "code",
   "execution_count": 9,
   "metadata": {},
   "outputs": [
    {
     "name": "stderr",
     "output_type": "stream",
     "text": [
      "100%|██████████| 20000/20000 [09:18<00:00, 35.81it/s]\n"
     ]
    }
   ],
   "source": [
    "with tf.device('/device:GPU:0'):\n",
    "    accuracy = compute_accuracy(model, polar_generator, 20000)"
   ]
  },
  {
   "cell_type": "code",
   "execution_count": 10,
   "metadata": {},
   "outputs": [
    {
     "data": {
      "text/plain": [
       "96.875"
      ]
     },
     "execution_count": 10,
     "metadata": {},
     "output_type": "execute_result"
    }
   ],
   "source": [
    "accuracy"
   ]
  },
  {
   "attachments": {},
   "cell_type": "markdown",
   "metadata": {},
   "source": [
    "#### Accuracy"
   ]
  },
  {
   "attachments": {},
   "cell_type": "markdown",
   "metadata": {},
   "source": [
    "------------"
   ]
  },
  {
   "attachments": {},
   "cell_type": "markdown",
   "metadata": {},
   "source": [
    "### Some test on final predictions"
   ]
  },
  {
   "cell_type": "code",
   "execution_count": null,
   "metadata": {},
   "outputs": [
    {
     "data": {
      "text/plain": [
       "array([[0., 0., 0., 0., 0., 0., 0., 0., 0., 0., 0., 0., 0., 0., 0., 0.,\n",
       "        0., 0., 0., 0., 0., 0., 0., 0., 0., 0., 0., 0., 0., 0., 0., 0.,\n",
       "        0., 0., 0., 0., 0., 0., 0., 0., 0., 0., 0., 0., 0., 0., 0., 0.,\n",
       "        0., 0., 0., 0., 0., 0., 0., 0., 0., 0., 0., 0., 0., 0., 0., 0.,\n",
       "        0., 0., 0., 0., 0., 0., 0., 0., 0., 0., 0., 0., 0., 0., 0., 0.,\n",
       "        0., 0., 0., 0., 0., 0., 0., 0., 0., 1., 0., 0., 0., 0., 0., 0.,\n",
       "        0., 0., 0., 0.]])"
      ]
     },
     "metadata": {},
     "output_type": "display_data"
    }
   ],
   "source": [
    "y_real_test[0]"
   ]
  },
  {
   "cell_type": "code",
   "execution_count": null,
   "metadata": {},
   "outputs": [
    {
     "data": {
      "text/plain": [
       "89"
      ]
     },
     "metadata": {},
     "output_type": "display_data"
    }
   ],
   "source": [
    "# np.argmax() retrieves the position inside the element that has the higher value\n",
    "np.argmax(y_real_test[0])"
   ]
  },
  {
   "cell_type": "code",
   "execution_count": 38,
   "metadata": {},
   "outputs": [
    {
     "ename": "StopIteration",
     "evalue": "",
     "output_type": "error",
     "traceback": [
      "\u001b[0;31m---------------------------------------------------------------------------\u001b[0m",
      "\u001b[0;31mStopIteration\u001b[0m                             Traceback (most recent call last)",
      "Cell \u001b[0;32mIn[38], line 1\u001b[0m\n\u001b[0;32m----> 1\u001b[0m y_pred \u001b[39m=\u001b[39m model\u001b[39m.\u001b[39;49mpredict(real_test_gen)\n",
      "File \u001b[0;32m~/miniconda3/envs/MicroRacer_new/lib/python3.9/site-packages/keras/utils/traceback_utils.py:67\u001b[0m, in \u001b[0;36mfilter_traceback.<locals>.error_handler\u001b[0;34m(*args, **kwargs)\u001b[0m\n\u001b[1;32m     65\u001b[0m \u001b[39mexcept\u001b[39;00m \u001b[39mException\u001b[39;00m \u001b[39mas\u001b[39;00m e:  \u001b[39m# pylint: disable=broad-except\u001b[39;00m\n\u001b[1;32m     66\u001b[0m   filtered_tb \u001b[39m=\u001b[39m _process_traceback_frames(e\u001b[39m.\u001b[39m__traceback__)\n\u001b[0;32m---> 67\u001b[0m   \u001b[39mraise\u001b[39;00m e\u001b[39m.\u001b[39mwith_traceback(filtered_tb) \u001b[39mfrom\u001b[39;00m \u001b[39mNone\u001b[39m\n\u001b[1;32m     68\u001b[0m \u001b[39mfinally\u001b[39;00m:\n\u001b[1;32m     69\u001b[0m   \u001b[39mdel\u001b[39;00m filtered_tb\n",
      "File \u001b[0;32m~/miniconda3/envs/MicroRacer_new/lib/python3.9/site-packages/keras/engine/data_adapter.py:859\u001b[0m, in \u001b[0;36mGeneratorDataAdapter._peek_and_restore\u001b[0;34m(x)\u001b[0m\n\u001b[1;32m    857\u001b[0m \u001b[39m@staticmethod\u001b[39m\n\u001b[1;32m    858\u001b[0m \u001b[39mdef\u001b[39;00m \u001b[39m_peek_and_restore\u001b[39m(x):\n\u001b[0;32m--> 859\u001b[0m   peek \u001b[39m=\u001b[39m \u001b[39mnext\u001b[39;49m(x)\n\u001b[1;32m    860\u001b[0m   \u001b[39mreturn\u001b[39;00m peek, itertools\u001b[39m.\u001b[39mchain([peek], x)\n",
      "\u001b[0;31mStopIteration\u001b[0m: "
     ]
    }
   ],
   "source": [
    "y_pred = model.predict(real_test_gen)"
   ]
  },
  {
   "cell_type": "code",
   "execution_count": null,
   "metadata": {},
   "outputs": [
    {
     "data": {
      "text/plain": [
       "array([0.00972783, 0.01054782, 0.00985779, 0.0103849 , 0.00981623,\n",
       "       0.01039358, 0.01036221, 0.0101087 , 0.00956898, 0.00992909,\n",
       "       0.00981386, 0.009505  , 0.00955362, 0.01014952, 0.01063547,\n",
       "       0.00978287, 0.01016095, 0.01024174, 0.00964302, 0.00983779,\n",
       "       0.00975216, 0.00999128, 0.0099328 , 0.0100944 , 0.00948367,\n",
       "       0.00998045, 0.01015159, 0.0100207 , 0.01023646, 0.0105612 ,\n",
       "       0.01025754, 0.0104017 , 0.01010685, 0.00994946, 0.01034355,\n",
       "       0.00971982, 0.00962096, 0.00976536, 0.0102027 , 0.01018209,\n",
       "       0.00974328, 0.00999209, 0.00995262, 0.01000857, 0.01088253,\n",
       "       0.01032031, 0.00969054, 0.0100836 , 0.00960697, 0.01030811,\n",
       "       0.00982615, 0.01012846, 0.00957684, 0.00969281, 0.01018658,\n",
       "       0.00969104, 0.01014712, 0.01000969, 0.0097687 , 0.01010991,\n",
       "       0.00953308, 0.01018469, 0.01028776, 0.00962206, 0.0101076 ,\n",
       "       0.0106229 , 0.01005223, 0.00952791, 0.01024099, 0.01041296,\n",
       "       0.01017077, 0.00995169, 0.00987118, 0.00972568, 0.00946211,\n",
       "       0.01012282, 0.01000936, 0.00990799, 0.01023559, 0.01000965,\n",
       "       0.00974766, 0.00945915, 0.00971345, 0.01008245, 0.01001624,\n",
       "       0.0098423 , 0.00967129, 0.01026897, 0.00951514, 0.01024913,\n",
       "       0.00994772, 0.0102699 , 0.00976373, 0.00999542, 0.01026612,\n",
       "       0.00975415, 0.0101869 , 0.01023002, 0.01034173, 0.0101178 ],\n",
       "      dtype=float32)"
      ]
     },
     "metadata": {},
     "output_type": "display_data"
    }
   ],
   "source": [
    "y_pred[0]"
   ]
  },
  {
   "cell_type": "code",
   "execution_count": null,
   "metadata": {},
   "outputs": [
    {
     "data": {
      "text/plain": [
       "44"
      ]
     },
     "metadata": {},
     "output_type": "display_data"
    }
   ],
   "source": [
    "np.argmax(y_pred[0])"
   ]
  }
 ],
 "metadata": {
  "kernelspec": {
   "display_name": "MicroRacer_new",
   "language": "python",
   "name": "python3"
  },
  "language_info": {
   "codemirror_mode": {
    "name": "ipython",
    "version": 3
   },
   "file_extension": ".py",
   "mimetype": "text/x-python",
   "name": "python",
   "nbconvert_exporter": "python",
   "pygments_lexer": "ipython3",
   "version": "3.9.0"
  },
  "orig_nbformat": 4,
  "vscode": {
   "interpreter": {
    "hash": "518efc80d3e3bb4afc038032d70609eefbf257c21e2a858cb2e5a5ab6a62c77e"
   }
  }
 },
 "nbformat": 4,
 "nbformat_minor": 2
}
